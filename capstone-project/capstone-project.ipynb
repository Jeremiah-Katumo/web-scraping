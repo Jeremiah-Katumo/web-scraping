{
 "cells": [
  {
   "cell_type": "code",
   "execution_count": 3,
   "metadata": {},
   "outputs": [],
   "source": [
    "from bs4 import BeautifulSoup\n",
    "import requests\n",
    "from selenium import webdriver\n",
    "from selenium.webdriver.common.by import By\n",
    "import time"
   ]
  },
  {
   "cell_type": "markdown",
   "metadata": {},
   "source": [
    "## PART 1\n",
    "#### Scrape links, addresses and prices of all the rental properties from the website"
   ]
  },
  {
   "cell_type": "code",
   "execution_count": null,
   "metadata": {},
   "outputs": [],
   "source": [
    "\n",
    "headers = {\n",
    "    \"User-Agent\": \"Mozilla/5.0 (Windows NT 10.0; Win64; x64) AppleWebKit/537.36 (KHTML, like Gecko) Chrome/123.0.0.0 Safari/537.36\",\n",
    "    \"Accept-Language\": \"en-US,en;q=0.9\"\n",
    "}\n",
    "\n",
    "response = requests.get(\"https://appbrewery.github.io/Zillow-Clone/\", headers=headers)\n",
    "\n",
    "data = response.text\n",
    "soup = BeautifulSoup(data, 'html.parser')\n",
    "# print(soup.prettify())"
   ]
  },
  {
   "cell_type": "code",
   "execution_count": 8,
   "metadata": {},
   "outputs": [
    {
     "name": "stdout",
     "output_type": "stream",
     "text": [
      "There are 44 links to individual listins in total: \n",
      "\n",
      "['https://www.zillow.com/b/747-geary-street-oakland-ca-CYzGVt/', 'https://www.zillow.com/apartments/san-francisco-ca/parkmerced/5XjKHx/', 'https://www.zillow.com/apartments/san-francisco-ca/845-sutter/5XkKMm/', 'https://www.zillow.com/apartments/san-francisco-ca/100-van-ness/5hJ5Sv/', 'https://www.zillow.com/apartments/san-francisco-ca/828-franklin/5XkH2V/', 'https://www.zillow.com/apartments/san-francisco-ca/923-folsom/5Yy6Np/', 'https://www.zillow.com/apartments/san-francisco-ca/hanover-soma-west/9NJsx9/', 'https://www.zillow.com/apartments/san-francisco-ca/slate-residences/9NJxjf/', 'https://www.zillow.com/apartments/san-francisco-ca/northpoint-apartments/5XjLPJ/', 'https://www.zillow.com/apartments/san-francisco-ca/the-landing/9NK3gC/', 'https://www.zillow.com/apartments/san-francisco-ca/1350-washington-street/9NKDS7/', 'https://www.zillow.com/apartments/san-francisco-ca/2775-market-st/5XsQ4D/', 'https://www.zillow.com/apartments/san-francisco-ca/mt.-sutro/5XjVRC/', 'https://www.zillow.com/apartments/san-francisco-ca/konrad-on-the-park/9NKJXS/', 'https://www.zillow.com/apartments/san-francisco-ca/1188-mission-at-trinity-place/5XjN4q/', 'https://www.zillow.com/apartments/san-francisco-ca/nob-hill-place/5XkKgw/', 'https://www.zillow.com/b/avalon-sunset-towers-san-francisco-ca-5XjLKv/', 'https://www.zillow.com/apartments/san-francisco-ca/125.dash.135-gardenside/BjFbbM/', 'https://www.zillow.com/apartments/san-francisco-ca/freedom-west/5mmHmr/', 'https://www.zillow.com/apartments/san-francisco-ca/franklin-st/9NJqFL/', 'https://www.zillow.com/b/loft-168-san-francisco-ca-9NK42M/', 'https://www.zillow.com/apartments/san-francisco-ca/mosser-towers-apartments/9NJr4f/', 'https://www.zillow.com/apartments/san-francisco-ca/1029-geary-st./5YCgZq/', 'https://www.zillow.com/apartments/san-francisco-ca/33-8th-at-trinity-place/9NJw4S/', 'https://www.zillow.com/apartments/san-francisco-ca/soma-square/5Xj2Yr/', 'https://www.zillow.com/apartments/san-francisco-ca/480-potrero-ave/5mY4JQ/', 'https://www.zillow.com/apartments/san-francisco-ca/the-mission/5XjQJR/', 'https://www.zillow.com/apartments/san-francisco-ca/l-seven/9NJtD7/', 'https://www.zillow.com/apartments/san-francisco-ca/palace-court-apartments/5XjKSv/', 'https://www.zillow.com/apartments/san-francisco-ca/2000-post/5XjRNn/', 'https://www.zillow.com/apartments/san-francisco-ca/hq/9NJthZ/', 'https://www.zillow.com/apartments/san-francisco-ca/ava-55-ninth/5XkH8X/', 'https://www.zillow.com/apartments/san-francisco-ca/the-bay/5Xhzkj/', 'https://www.zillow.com/apartments/san-francisco-ca/lofts-at-seven/5XmsgS/', 'https://www.zillow.com/apartments/san-francisco-ca/347-eddy-st./5XxfK3/', 'https://www.zillow.com/b/solaire-san-francisco-ca-65g7KK/', 'https://www.zillow.com/apartments/san-francisco-ca/marina-cove-apartments/5XjRBB/', 'https://www.zillow.com/apartments/san-francisco-ca/avalon-dogpatch/5Yy5Rr/', 'https://www.zillow.com/apartments/san-francisco-ca/the-gateway/5Xkxvk/', 'https://www.zillow.com/apartments/san-francisco-ca/50-laguna/5XjSDX/', 'https://www.zillow.com/apartments/san-francisco-ca/the-fillmore-center/5XjVzy/', 'https://www.zillow.com/apartments/san-francisco-ca/1333-gough-apartments-at-cathedral-hall/5XjRmn/', 'https://www.zillow.com/apartments/san-francisco-ca/1177-market-at-trinity-place/BNjvdD/', 'https://www.zillow.com/apartments/san-francisco-ca/300-buchanan/5XjW2N/']\n"
     ]
    }
   ],
   "source": [
    "# Create a list of all the links on the page using CSS Selector\n",
    "all_links_elements = soup.select(\".StyledPropertyCardDataWrapper a\")\n",
    "\n",
    "all_links = [link[\"href\"] for link in all_links_elements]\n",
    "print(f\"There are {len(all_links)} links to individual listins in total: \\n\")\n",
    "print(all_links)"
   ]
  },
  {
   "cell_type": "code",
   "execution_count": 10,
   "metadata": {},
   "outputs": [
    {
     "name": "stdout",
     "output_type": "stream",
     "text": [
      "After cleaning up the addresses data, the 44 addresses now look like: \n",
      "\n",
      "['747 Geary Street, 747 Geary St, Oakland, CA 94609', 'Parkmerced   3711 19th Ave, San Francisco, CA', '845 Sutter, 845 Sutter St APT 509, San Francisco, CA', '100 Van Ness, 100 Van Ness Ave #410, San Francisco, CA 94102', '828 Franklin, 828 Franklin St #606, San Francisco, CA 94102', '923 Folsom, 923 Folsom St APT 506, San Francisco, CA 94107', 'Hanover Soma West, 1140 Harrison St #138, San Francisco, CA 94103', 'Slate Residences, 911 Bryant St #102, San Francisco, CA 94103', 'NorthPoint Apartments, 2211 Stockton St, San Francisco, CA 94133', 'The Landing   1395 22nd St, San Francisco, CA', '1350 Washington Street   1350 Washington St, San Francisco, CA', '2775 Market St, 2775 Market St APT 102, San Francisco, CA 94114', 'Mt. Sutro, 480 Warren Dr #312, San Francisco, CA 94131', 'Konrad on the Park, 971 Eddy St #212, San Francisco, CA 94109', '1188 Mission at Trinity Place   1188 Mission St, San Francisco, CA', 'Nob Hill Place, 1155 Jones St APT 208, San Francisco, CA 94109', 'Avalon Sunset Towers, 8 Locksley Ave, San Francisco, CA 94131', '125-135 Gardenside, 125 Gardenside Dr, San Francisco, CA 94114', 'Freedom West, 820 McAllister St, San Francisco, CA 94102', 'Franklin St, 24 Franklin St #805, San Francisco, CA 94102', 'Loft 168, 168 Bluxome St, San Francisco, CA 94107', 'Mosser Towers Apartments, 455 Eddy St APT E1102, San Francisco, CA 94102', '1029 Geary St., 1029 Geary St, San Francisco, CA 94109', '33 8th at Trinity Place   33 8th St, San Francisco, CA', 'SoMa Square   1 Saint Francis Pl, San Francisco, CA', '480 Potrero Ave, 480 Potrero Ave #610, San Francisco, CA 94110', 'The Mission   240 Dolores St, San Francisco, CA', 'L Seven   1222 Harrison St, San Francisco, CA', 'Palace Court Apartments   555 Ofarrell St, San Francisco, CA', '2000 Post   2000 Post St, San Francisco, CA', 'HQ   1532 Harrison St, San Francisco, CA', 'AVA 55 Ninth   55 9th St, San Francisco, CA', 'The Bay   2133 Stockton St, San Francisco, CA', 'Lofts at Seven   277 Golden Gate Ave, San Francisco, CA', '347 Eddy St.   347 Eddy St, San Francisco, CA', 'Solaire   299 Fremont St, San Francisco, CA', 'Marina Cove Apartments, 1550 Bay St APT B225, San Francisco, CA 94123', 'Avalon Dogpatch, 800 Indiana St, San Francisco, CA 94107', 'The Gateway, 430 Davis Ct #3-0306, San Francisco, CA 94111', '50 Laguna, 50 Laguna St APT 604, San Francisco, CA 94102', 'The Fillmore Center, 1475 Fillmore St #S30305, San Francisco, CA 94115', '1333 Gough Apartments at Cathedral Hall, 1333 Gough St APT 1G, San Francisco, CA 94109', '1177 Market at Trinity Place   1177 Market St, San Francisco, CA', '300 Buchanan, 300 Buchanan St #202, San Francisco, CA 94102']\n"
     ]
    }
   ],
   "source": [
    "# Create a list of all the addresses on the page by using a CSS Selector\n",
    "# Then remove newlines i.e \\n, pipe symbols i.e |, and all te whitespaces ...\n",
    "# in order to clean up all the addresses data\n",
    "all_addresses_elements = soup.select(\".StyledPropertyCardDataWrapper address\")\n",
    "\n",
    "all_addresses = [address.get_text().replace(\"|\", \" \").strip() for address in all_addresses_elements]\n",
    "print(f\"After cleaning up the addresses data, the {len(all_addresses)} addresses now look like: \\n\")\n",
    "print(all_addresses)"
   ]
  },
  {
   "cell_type": "code",
   "execution_count": 11,
   "metadata": {},
   "outputs": [
    {
     "name": "stdout",
     "output_type": "stream",
     "text": [
      "After cleaning up the prices dataset, the 44 prices now look as follows: \n",
      "\n",
      "['$2,895', '$2,810', '$2,450', '$2,940', '$2,395', '$2,816', '$2,974', '$2,704', '$2,810', '$2,798', '$2,195', '$2,995', '$2,895', '$2,805', '$1914', '$2,950', '$2,917', '$2,595', '$2,000', '$2,824', '$2,800', '$2,450', '$2,095', '$2,298', '$2,809', '$2,495', '$2,494', '$2,775', '$1,745', '$2,764', '$2,799', '$2,525', '$2,199', '$1,995', '$1,895', '$2,898', '$2,999', '$2,830', '$2,895', '$2,775', '$2,998', '$2,895', '$2,773', '$2,975']\n"
     ]
    }
   ],
   "source": [
    "# Create a list of all prices on the page using a CSS Selector\n",
    "# Remove newlines \\n, pipe symbols |, and all the whitespaces ...\n",
    "# from the prices data\n",
    "all_prices_elements = soup.select(\".PropertyCardWrapper span\")\n",
    "\n",
    "all_prices = [price.get_text().replace(\"/mo\", \"\").split(\"+\")[0] for price in all_prices_elements]\n",
    "print(f\"After cleaning up the prices dataset, the {len(all_prices)} prices now look as follows: \\n\")\n",
    "print(all_prices)"
   ]
  },
  {
   "cell_type": "markdown",
   "metadata": {},
   "source": [
    "## PART 2\n",
    "#### Fill in the Google form using selenium"
   ]
  },
  {
   "cell_type": "code",
   "execution_count": 13,
   "metadata": {},
   "outputs": [],
   "source": [
    "# Open Chrome browser\n",
    "options = webdriver.ChromeOptions()\n",
    "options.add_experimental_option(\"detach\", True)\n",
    "driver = webdriver.Chrome(options=options)"
   ]
  },
  {
   "cell_type": "code",
   "execution_count": 21,
   "metadata": {},
   "outputs": [],
   "source": [
    "for i in range(len(all_links)):\n",
    "    # Add your google form link\n",
    "    driver.get(\"https://docs.google.com/forms/d/e/1FAIpQLSeyMYtqGBeoxsFN72P_ZfEpzR-6ZZDnfnQ6syB2xzjAx1bT3g/viewform?usp=sf_link\")\n",
    "\n",
    "    # Use xpath to grab the \"short answer\" fields in the Google form\n",
    "    address = driver.find_element(by=By.XPATH, value='//*[@id=\"mG61Hd\"]/div[2]/div/div[2]/div[1]/div/div/div[2]/div/div[1]/div/div[1]/input')\n",
    "    price = driver.find_element(by=By.XPATH, value='//*[@id=\"mG61Hd\"]/div[2]/div/div[2]/div[2]/div/div/div[2]/div/div[1]/div/div[1]/input')\n",
    "    link = driver.find_element(by=By.XPATH, value='//*[@id=\"mG61Hd\"]/div[2]/div/div[2]/div[3]/div/div/div[2]/div/div[1]/div/div[1]/input')\n",
    "    submit_button = driver.find_element(by=By.XPATH, value='//*[@id=\"mG61Hd\"]/div[2]/div/div[3]/div[1]/div[1]/div/span')\n",
    "\n",
    "    address.send_keys(all_addresses[i])\n",
    "    price.send_keys(all_prices[i])\n",
    "    link.send_keys(all_links[i])\n",
    "    submit_button.click()"
   ]
  }
 ],
 "metadata": {
  "kernelspec": {
   "display_name": ".venv",
   "language": "python",
   "name": "python3"
  },
  "language_info": {
   "codemirror_mode": {
    "name": "ipython",
    "version": 3
   },
   "file_extension": ".py",
   "mimetype": "text/x-python",
   "name": "python",
   "nbconvert_exporter": "python",
   "pygments_lexer": "ipython3",
   "version": "3.11.9"
  }
 },
 "nbformat": 4,
 "nbformat_minor": 2
}
