{
 "cells": [
  {
   "cell_type": "code",
   "execution_count": 2,
   "metadata": {},
   "outputs": [],
   "source": [
    "import time\n",
    "from selenium import webdriver\n",
    "from selenium.webdriver.common.by import By\n",
    "from selenium.webdriver.common.keys import Keys\n",
    "from selenium.webdriver.support.ui import WebDriverWait\n",
    "from selenium.webdriver.support import expected_conditions as EC\n",
    "from selenium.common.exceptions import ElementClickInterceptedException\n",
    "from dotenv import load_dotenv\n",
    "import os"
   ]
  },
  {
   "cell_type": "code",
   "execution_count": null,
   "metadata": {},
   "outputs": [],
   "source": [
    "\n",
    "SIMILAR_ACCOUNT = 'INSTAGRAM ACCOUNT YOU WANT TO BECOME'\n",
    "USERNAME = 'YOUR INSTAGRAM EMAIL'\n",
    "PASSWORD = 'YOUR INSTAGRAM PASSWORD'\n",
    "\n",
    "class InstagramFollower:\n",
    "    def __init__(self):\n",
    "        self.driver = webdriver.Chrome()\n",
    "        self.wait = WebDriverWait(self.driver, 10)\n",
    "\n",
    "    def login(self):\n",
    "        self.driver.get(\"https://www.instagram.com/accounts/login/\")\n",
    "        \n",
    "        # Handle cookie warning\n",
    "        try:\n",
    "            cookie_button = self.wait.until(EC.element_to_be_clickable((By.XPATH, \"//button[text()='Accept']\")))\n",
    "            cookie_button.click()\n",
    "        except Exception:\n",
    "            pass  # If not found, just continue\n",
    "\n",
    "        # Login\n",
    "        username = self.driver.find_element(By.NAME, \"username\")\n",
    "        password = self.driver.find_element(By.NAME, \"password\")\n",
    "        username.send_keys(USERNAME)\n",
    "        password.send_keys(PASSWORD)\n",
    "        password.send_keys(Keys.RETURN)\n",
    "\n",
    "        # Handle \"Save Login Info\" prompt\n",
    "        try:\n",
    "            self.wait.until(EC.element_to_be_clickable((By.XPATH, \"//button[text()='Not Now']\"))).click()\n",
    "        except Exception:\n",
    "            pass\n",
    "\n",
    "        # Handle notifications prompt\n",
    "        try:\n",
    "            self.wait.until(EC.element_to_be_clickable((By.XPATH, \"//button[text()='Not Now']\"))).click()\n",
    "        except Exception:\n",
    "            pass\n",
    "\n",
    "    def find_followers(self):\n",
    "        self.driver.get(f\"https://www.instagram.com/{SIMILAR_ACCOUNT}/followers\")\n",
    "        \n",
    "        # Scroll to load all followers\n",
    "        modal = self.wait.until(EC.presence_of_element_located((By.XPATH, \"//div[@role='dialog']//ul\")))\n",
    "        for _ in range(10):  # You might need to increase this value\n",
    "            self.driver.execute_script(\"arguments[0].scrollTop = arguments[0].scrollHeight\", modal)\n",
    "            self.wait.until(EC.presence_of_element_located((By.XPATH, \"//li\")))  # Wait for new followers to load\n",
    "\n",
    "    def follow(self):\n",
    "        # Find and follow users\n",
    "        follow_buttons = self.wait.until(EC.presence_of_all_elements_located((By.XPATH, \"//button[text()='Follow']\")))\n",
    "        for button in follow_buttons:\n",
    "            try:\n",
    "                button.click()\n",
    "                self.wait.until(EC.invisibility_of_element_located((By.XPATH, \"//button[text()='Follow']\")))  # Wait for button to disappear\n",
    "            except ElementClickInterceptedException:\n",
    "                cancel_button = self.wait.until(EC.element_to_be_clickable((By.XPATH, \"//button[text()='Cancel']\")))\n",
    "                cancel_button.click()\n"
   ]
  },
  {
   "cell_type": "code",
   "execution_count": null,
   "metadata": {},
   "outputs": [],
   "source": [
    "follower_bot = InstagramFollower()\n",
    "follower_bot.login()\n",
    "follower_bot.find_follower()\n",
    "follower_bot.follow()"
   ]
  }
 ],
 "metadata": {
  "kernelspec": {
   "display_name": ".venv",
   "language": "python",
   "name": "python3"
  },
  "language_info": {
   "codemirror_mode": {
    "name": "ipython",
    "version": 3
   },
   "file_extension": ".py",
   "mimetype": "text/x-python",
   "name": "python",
   "nbconvert_exporter": "python",
   "pygments_lexer": "ipython3",
   "version": "3.11.9"
  }
 },
 "nbformat": 4,
 "nbformat_minor": 2
}
