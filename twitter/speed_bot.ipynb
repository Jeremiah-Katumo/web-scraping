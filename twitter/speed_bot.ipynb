{
 "cells": [
  {
   "cell_type": "code",
   "execution_count": 1,
   "metadata": {},
   "outputs": [
    {
     "data": {
      "text/plain": [
       "True"
      ]
     },
     "execution_count": 1,
     "metadata": {},
     "output_type": "execute_result"
    }
   ],
   "source": [
    "from selenium import webdriver\n",
    "from selenium.webdriver.common.by import By\n",
    "from selenium.webdriver.common.keys import Keys\n",
    "from selenium.webdriver.support.ui import WebDriverWait\n",
    "from selenium.webdriver.support import expected_conditions as EC\n",
    "import time\n",
    "from dotenv import load_dotenv\n",
    "import os\n",
    "\n",
    "load_dotenv()"
   ]
  },
  {
   "cell_type": "code",
   "execution_count": 2,
   "metadata": {},
   "outputs": [],
   "source": [
    "PROMISED_UP = 10\n",
    "PROMISED_DOWN = 150"
   ]
  },
  {
   "cell_type": "code",
   "execution_count": 3,
   "metadata": {},
   "outputs": [],
   "source": [
    "\n",
    "class InternetSpeedBot():\n",
    "    def __init__(self):\n",
    "        self.driver = webdriver.Chrome()\n",
    "        self.down = 0\n",
    "        self.up = 0\n",
    "\n",
    "    def get_internet_speed(self):\n",
    "        self.driver.get('https://www.speedtest.net/')\n",
    "\n",
    "        wait = WebDriverWait(self.driver, 10)\n",
    "\n",
    "        go_button = wait.until(EC.presence_of_element_located(By.CSS_SELECTOR, '.start-button a'))\n",
    "        go_button.click()\n",
    "\n",
    "        self.up = wait.until(EC.presence_of_element_located(By.XPATH, '//*[@id=\"container\"]/div/div[3]/div/div/div/div[2]/div[3]/div[3]/div/div[3]/div/div/div[2]/div[1]/div[2]/div/div[2]/span').text)\n",
    "        self.down = self.driver.find_element(By.XPATH, '//*[@id=\"container\"]/div/div[3]/div/div/div/div[2]/div[3]/div[3]/div/div[3]/div/div/div[2]/div[1]/div[3]/div/div[2]/span').text\n",
    "\n",
    "    def tweet_at_provider(self):\n",
    "        self.driver.get('https://twitter.com/login')\n",
    "\n",
    "        wait = WebDriverWait(self.driver, 60)\n",
    "\n",
    "        email = wait.until(EC.presence_of_element_located(By.XPATH, '//*[@id=\"layers\"]/div[2]/div/div/div/div/div/div[2]/div[2]/div/div/div[2]/div[2]/div/div/div/div[5]/label/div/div[2]/div/input'))\n",
    "        password = wait.until(EC.presence_of_element_located(By.XPATH, '//*[@id=\"layers\"]/div[2]/div/div/div/div/div/div[2]/div[2]/div/div/div[2]/div[2]/div/div/div/div[5]/label/div/div[2]/div/input'))\n",
    "\n",
    "        email.send_keys(os.getenv('X_EMAIL'))\n",
    "        password.send_keys(os.getenv('X_PASSWORD'))\n",
    "        wait.until(password.send_keys(Keys.Enter))\n",
    "\n",
    "        tweet_compose = wait.until(EC.presence_of_element_located(By.XPATH, '/html/body/div[1]/div/div/div[2]/header/div/div/div/div[1]/div[3]/a/div'))\n",
    "        \n",
    "        tweet = f\"Hey @SafaricomPLC, why is my internet speed {self.down}down/{self.up}up when I pay for {PROMISED_DOWN}down/{PROMISED_UP}up?\" \n",
    "        tweet_compose.send_keys(tweet)\n",
    "\n",
    "        tweet_button = wait.until(EC.presence_of_element_located(By.XPATH, '/html/body/div[1]/div/div/div[1]/div[2]/div/div/div/div/div/div[2]/div[2]/div/div/div/div[3]/div[2]/div[1]/div/div/div/div[2]/div[2]/div/div/div/div[4]'))\n",
    "        tweet_button.click()\n",
    "\n",
    "        wait.until(self.driver.quit())"
   ]
  },
  {
   "cell_type": "code",
   "execution_count": 4,
   "metadata": {},
   "outputs": [],
   "source": [
    "i_s_bot = InternetSpeedBot()\n",
    "\n",
    "i_s_bot.get_internet_speed()"
   ]
  },
  {
   "cell_type": "code",
   "execution_count": null,
   "metadata": {},
   "outputs": [],
   "source": [
    "# i_s_bot = InternetSpeedBot()\n",
    "\n",
    "i_s_bot.tweet_at_provider()"
   ]
  },
  {
   "cell_type": "code",
   "execution_count": 18,
   "metadata": {},
   "outputs": [],
   "source": [
    "import os\n",
    "from selenium import webdriver\n",
    "from selenium.webdriver.common.by import By\n",
    "from selenium.webdriver.common.keys import Keys\n",
    "from selenium.webdriver.support.ui import WebDriverWait\n",
    "from selenium.webdriver.support import expected_conditions as EC\n",
    "from selenium.common.exceptions import WebDriverException\n",
    "\n",
    "class InternetSpeedBot():\n",
    "    def __init__(self):\n",
    "        self.driver = None\n",
    "        self.down = 0\n",
    "        self.up = 0\n",
    "\n",
    "    def initialize_driver(self):\n",
    "        try:\n",
    "            self.driver = webdriver.Chrome()\n",
    "        except WebDriverException as e:\n",
    "            print(\"Error initializing Chrome WebDriver:\", e)\n",
    "\n",
    "    def get_internet_speed(self):\n",
    "        try:\n",
    "            self.driver.get('https://www.speedtest.net/')\n",
    "\n",
    "            wait = WebDriverWait(self.driver, 10)\n",
    "\n",
    "            go_button = wait.until(EC.presence_of_element_located((By.CSS_SELECTOR, '.start-button a')))\n",
    "            go_button.click()\n",
    "\n",
    "            self.up = wait.until(EC.presence_of_element_located((By.XPATH, '//*[@id=\"container\"]/div/div[3]/div/div/div/div[2]/div[3]/div[3]/div/div[3]/div/div/div[2]/div[1]/div[2]/div/div[2]/span'))).text\n",
    "            self.down = self.driver.find_element(By.XPATH, '//*[@id=\"container\"]/div/div[3]/div/div/div/div[2]/div[3]/div[3]/div/div[3]/div/div/div[2]/div[1]/div[3]/div/div[2]/span').text\n",
    "        except Exception as e:\n",
    "            print(\"Error getting internet speed:\", e)\n",
    "\n",
    "    def tweet_at_provider(self):\n",
    "        try:\n",
    "            self.driver.get('https://twitter.com/login')\n",
    "\n",
    "            wait = WebDriverWait(self.driver, 60)\n",
    "\n",
    "            email = wait.until(EC.presence_of_element_located((By.XPATH, '//*[@id=\"layers\"]/div[2]/div/div/div/div/div/div[2]/div[2]/div/div/div[2]/div[2]/div/div/div/div[5]/label/div/div[2]/div/input')))\n",
    "            password = wait.until(EC.presence_of_element_located((By.XPATH, '//*[@id=\"layers\"]/div[2]/div/div/div/div/div/div[2]/div[2]/div/div/div[2]/div[2]/div/div/div/div[5]/label/div/div[2]/div/input')))\n",
    "\n",
    "            email.send_keys(os.getenv('X_EMAIL'))\n",
    "            password.send_keys(os.getenv('X_PASSWORD'))\n",
    "            password.send_keys(Keys.ENTER)\n",
    "\n",
    "            tweet_compose = wait.until(EC.presence_of_element_located((By.XPATH, '/html/body/div[1]/div/div/div[2]/header/div/div/div/div[1]/div[3]/a/div')))\n",
    "            \n",
    "            tweet = f\"Hey @SafaricomPLC, why is my internet speed {self.down} down/{self.up} up when I pay for {os.getenv('PROMISED_DOWN')} down/{os.getenv('PROMISED_UP')} up?\" \n",
    "            tweet_compose.send_keys(tweet)\n",
    "\n",
    "            tweet_button = wait.until(EC.presence_of_element_located((By.XPATH, '/html/body/div[1]/div/div/div[1]/div[2]/div/div/div/div/div/div[2]/div[2]/div/div/div/div[3]/div[2]/div[1]/div/div/div/div[2]/div[2]/div/div/div/div[4]')))\n",
    "            tweet_button.click()\n",
    "        except Exception as e:\n",
    "            print(\"Error tweeting at provider:\", e)\n",
    "        finally:\n",
    "            if self.driver:\n",
    "                self.driver.quit()"
   ]
  },
  {
   "cell_type": "code",
   "execution_count": 21,
   "metadata": {},
   "outputs": [
    {
     "name": "stdout",
     "output_type": "stream",
     "text": [
      "Error getting internet speed: Message: no such element: Unable to locate element: {\"method\":\"xpath\",\"selector\":\"//*[@id=\"container\"]/div/div[3]/div/div/div/div[2]/div[3]/div[3]/div/div[3]/div/div/div[2]/div[1]/div[3]/div/div[2]/span\"}\n",
      "  (Session info: chrome=124.0.6367.156); For documentation on this error, please visit: https://www.selenium.dev/documentation/webdriver/troubleshooting/errors#no-such-element-exception\n",
      "Stacktrace:\n",
      "\tGetHandleVerifier [0x00007FF6AD471562+60802]\n",
      "\t(No symbol) [0x00007FF6AD3EAC62]\n",
      "\t(No symbol) [0x00007FF6AD2A7CE4]\n",
      "\t(No symbol) [0x00007FF6AD2F6D4D]\n",
      "\t(No symbol) [0x00007FF6AD2F6E1C]\n",
      "\t(No symbol) [0x00007FF6AD33CE37]\n",
      "\t(No symbol) [0x00007FF6AD31ABBF]\n",
      "\t(No symbol) [0x00007FF6AD33A224]\n",
      "\t(No symbol) [0x00007FF6AD31A923]\n",
      "\t(No symbol) [0x00007FF6AD2E8FEC]\n",
      "\t(No symbol) [0x00007FF6AD2E9C21]\n",
      "\tGetHandleVerifier [0x00007FF6AD7741FD+3217949]\n",
      "\tGetHandleVerifier [0x00007FF6AD7B6197+3488183]\n",
      "\tGetHandleVerifier [0x00007FF6AD7AF11F+3459391]\n",
      "\tGetHandleVerifier [0x00007FF6AD52B926+823622]\n",
      "\t(No symbol) [0x00007FF6AD3F5FFF]\n",
      "\t(No symbol) [0x00007FF6AD3F0F24]\n",
      "\t(No symbol) [0x00007FF6AD3F10B2]\n",
      "\t(No symbol) [0x00007FF6AD3E1904]\n",
      "\tBaseThreadInitThunk [0x00007FFD81C17344+20]\n",
      "\tRtlUserThreadStart [0x00007FFD82B826B1+33]\n",
      "\n"
     ]
    }
   ],
   "source": [
    "# Example usage:\n",
    "bot = InternetSpeedBot()\n",
    "bot.initialize_driver()\n",
    "bot.get_internet_speed()"
   ]
  },
  {
   "cell_type": "code",
   "execution_count": null,
   "metadata": {},
   "outputs": [],
   "source": [
    "# bot = InternetSpeedBot()\n",
    "# bot.initialize_driver()\n",
    "bot.tweet_at_provider()"
   ]
  }
 ],
 "metadata": {
  "kernelspec": {
   "display_name": ".venv",
   "language": "python",
   "name": "python3"
  },
  "language_info": {
   "codemirror_mode": {
    "name": "ipython",
    "version": 3
   },
   "file_extension": ".py",
   "mimetype": "text/x-python",
   "name": "python",
   "nbconvert_exporter": "python",
   "pygments_lexer": "ipython3",
   "version": "3.11.9"
  }
 },
 "nbformat": 4,
 "nbformat_minor": 2
}
