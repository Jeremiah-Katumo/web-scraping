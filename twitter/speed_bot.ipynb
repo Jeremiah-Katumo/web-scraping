{
 "cells": [
  {
   "cell_type": "code",
   "execution_count": 1,
   "metadata": {},
   "outputs": [
    {
     "data": {
      "text/plain": [
       "True"
      ]
     },
     "execution_count": 1,
     "metadata": {},
     "output_type": "execute_result"
    }
   ],
   "source": [
    "from selenium import webdriver\n",
    "from selenium.webdriver.common.by import By\n",
    "from selenium.webdriver.common.keys import Keys\n",
    "from selenium.webdriver.support.ui import WebDriverWait\n",
    "from selenium.webdriver.support import expected_conditions as EC\n",
    "import time\n",
    "from dotenv import load_dotenv\n",
    "import os\n",
    "\n",
    "load_dotenv()"
   ]
  },
  {
   "cell_type": "code",
   "execution_count": 2,
   "metadata": {},
   "outputs": [],
   "source": [
    "\n",
    "class InternetSpeedBot():\n",
    "    def __init__(self, driver_path):\n",
    "        self.driver = webdriver.Chrome()\n",
    "        self.down = 0\n",
    "        self.up = 0\n",
    "\n",
    "    def get_internet_speed(self):\n",
    "        self.driver.get('https://www.speedtest.net/')\n",
    "\n",
    "        time.sleep(2)\n",
    "\n",
    "        go_button = self.driver.find_element(By.CSS_SELECTOR, value='.start-button a')\n",
    "        go_button.click()\n",
    "\n",
    "        time.sleep(60)\n",
    "        self.up = self.driver.find_element(By.XPATH, value='//*[@id=\"container\"]/div/div[3]/div/div/div/div[2]/div[3]/div[3]/div/div[3]/div/div/div[2]/div[1]/div[2]/div/div[2]/span').text\n",
    "        self.down = self.driver.find_element(By.XPATH, value='//*[@id=\"container\"]/div/div[3]/div/div/div/div[2]/div[3]/div[3]/div/div[3]/div/div/div[2]/div[1]/div[3]/div/div[2]/span').text\n",
    "\n",
    "    def tweet_at_provider(self):\n",
    "        pass"
   ]
  },
  {
   "cell_type": "code",
   "execution_count": null,
   "metadata": {},
   "outputs": [],
   "source": [
    "i_s_bot = InternetSpeedBot()\n",
    "\n",
    "i_s_bot.get_internet_speed()"
   ]
  },
  {
   "cell_type": "code",
   "execution_count": null,
   "metadata": {},
   "outputs": [],
   "source": [
    "i_s_bot.tweet_at_provider()"
   ]
  }
 ],
 "metadata": {
  "kernelspec": {
   "display_name": ".venv",
   "language": "python",
   "name": "python3"
  },
  "language_info": {
   "codemirror_mode": {
    "name": "ipython",
    "version": 3
   },
   "file_extension": ".py",
   "mimetype": "text/x-python",
   "name": "python",
   "nbconvert_exporter": "python",
   "pygments_lexer": "ipython3",
   "version": "3.11.9"
  }
 },
 "nbformat": 4,
 "nbformat_minor": 2
}
