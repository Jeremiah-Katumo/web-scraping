{
 "cells": [
  {
   "cell_type": "code",
   "execution_count": 1,
   "metadata": {},
   "outputs": [
    {
     "data": {
      "text/plain": [
       "True"
      ]
     },
     "execution_count": 1,
     "metadata": {},
     "output_type": "execute_result"
    }
   ],
   "source": [
    "from selenium import webdriver\n",
    "from selenium.webdriver.common.by import By\n",
    "from selenium.webdriver.common.keys import Keys\n",
    "from selenium.webdriver.support.ui import WebDriverWait\n",
    "from selenium.webdriver.support import expected_conditions as EC\n",
    "import time\n",
    "from dotenv import load_dotenv\n",
    "import os\n",
    "\n",
    "load_dotenv()"
   ]
  },
  {
   "cell_type": "code",
   "execution_count": 8,
   "metadata": {},
   "outputs": [],
   "source": [
    "PROMISED_UP = 10\n",
    "PROMISED_DOWN = 150"
   ]
  },
  {
   "cell_type": "code",
   "execution_count": 16,
   "metadata": {},
   "outputs": [],
   "source": [
    "\n",
    "class InternetSpeedBot():\n",
    "    def __init__(self):\n",
    "        self.driver = webdriver.Chrome()\n",
    "        self.down = 0\n",
    "        self.up = 0\n",
    "\n",
    "    def get_internet_speed(self):\n",
    "        self.driver.get('https://www.speedtest.net/')\n",
    "\n",
    "        wait = WebDriverWait(self.driver, 10)\n",
    "\n",
    "        go_button = wait.until(EC.presence_of_element_located(By.CSS_SELECTOR, '.start-button a'))\n",
    "        go_button.click()\n",
    "\n",
    "        self.up = wait.until(EC.presence_of_element_located(By.XPATH, '//*[@id=\"container\"]/div/div[3]/div/div/div/div[2]/div[3]/div[3]/div/div[3]/div/div/div[2]/div[1]/div[2]/div/div[2]/span').text)\n",
    "        self.down = self.driver.find_element(By.XPATH, '//*[@id=\"container\"]/div/div[3]/div/div/div/div[2]/div[3]/div[3]/div/div[3]/div/div/div[2]/div[1]/div[3]/div/div[2]/span').text\n",
    "\n",
    "    def tweet_at_provider(self):\n",
    "        self.driver.get('https://twitter.com/login')\n",
    "\n",
    "        wait = WebDriverWait(self.driver, 60)\n",
    "\n",
    "        email = wait.until(EC.presence_of_element_located(By.XPATH, '//*[@id=\"layers\"]/div[2]/div/div/div/div/div/div[2]/div[2]/div/div/div[2]/div[2]/div/div/div/div[5]/label/div/div[2]/div/input'))\n",
    "        password = wait.until(EC.presence_of_element_located(By.XPATH, '//*[@id=\"layers\"]/div[2]/div/div/div/div/div/div[2]/div[2]/div/div/div[2]/div[2]/div/div/div/div[5]/label/div/div[2]/div/input'))\n",
    "\n",
    "        email.send_keys(os.getenv('X_EMAIL'))\n",
    "        password.send_keys(os.getenv('X_PASSWORD'))\n",
    "        wait.until(password.send_keys(Keys.Enter))\n",
    "\n",
    "        tweet_compose = wait.until(EC.presence_of_element_located(By.XPATH, '/html/body/div[1]/div/div/div[2]/header/div/div/div/div[1]/div[3]/a/div'))\n",
    "        \n",
    "        tweet = f\"Hey @SafaricomPLC, why is my internet speed {self.down}down/{self.up}up when I pay for {PROMISED_DOWN}down/{PROMISED_UP}up?\" \n",
    "        tweet_compose.send_keys(tweet_compose)\n",
    "\n",
    "        tweet_button = wait.until(EC.presence_of_element_located(By.XPATH, '/html/body/div[1]/div/div/div[1]/div[2]/div/div/div/div/div/div[2]/div[2]/div/div/div/div[3]/div[2]/div[1]/div/div/div/div[2]/div[2]/div/div/div/div[4]'))\n",
    "        tweet_button.click()\n",
    "\n",
    "        wait.until(self.driver.quit())"
   ]
  },
  {
   "cell_type": "code",
   "execution_count": null,
   "metadata": {},
   "outputs": [],
   "source": [
    "i_s_bot = InternetSpeedBot()\n",
    "\n",
    "i_s_bot.get_internet_speed()"
   ]
  },
  {
   "cell_type": "code",
   "execution_count": 17,
   "metadata": {},
   "outputs": [
    {
     "ename": "WebDriverException",
     "evalue": "Message: disconnected: unable to connect to renderer\nStacktrace:\n\tGetHandleVerifier [0x00007FF6AD471562+60802]\n\t(No symbol) [0x00007FF6AD3EAC62]\n\t(No symbol) [0x00007FF6AD2A7CE4]\n\t(No symbol) [0x00007FF6AD2E5277]\n\t(No symbol) [0x00007FF6AD2DFF39]\n\t(No symbol) [0x00007FF6AD2DAA64]\n\t(No symbol) [0x00007FF6AD326037]\n\t(No symbol) [0x00007FF6AD3256B0]\n\t(No symbol) [0x00007FF6AD31A923]\n\t(No symbol) [0x00007FF6AD2E8FEC]\n\t(No symbol) [0x00007FF6AD2E9C21]\n\tGetHandleVerifier [0x00007FF6AD7741FD+3217949]\n\tGetHandleVerifier [0x00007FF6AD7B6197+3488183]\n\tGetHandleVerifier [0x00007FF6AD7AF11F+3459391]\n\tGetHandleVerifier [0x00007FF6AD52B926+823622]\n\t(No symbol) [0x00007FF6AD3F5FFF]\n\t(No symbol) [0x00007FF6AD3F0F24]\n\t(No symbol) [0x00007FF6AD3F10B2]\n\t(No symbol) [0x00007FF6AD3E1904]\n\tBaseThreadInitThunk [0x00007FFD81C17344+20]\n\tRtlUserThreadStart [0x00007FFD82B826B1+33]\n",
     "output_type": "error",
     "traceback": [
      "\u001b[1;31m---------------------------------------------------------------------------\u001b[0m",
      "\u001b[1;31mWebDriverException\u001b[0m                        Traceback (most recent call last)",
      "Cell \u001b[1;32mIn[17], line 1\u001b[0m\n\u001b[1;32m----> 1\u001b[0m i_s_bot \u001b[38;5;241m=\u001b[39m \u001b[43mInternetSpeedBot\u001b[49m\u001b[43m(\u001b[49m\u001b[43m)\u001b[49m\n\u001b[0;32m      3\u001b[0m i_s_bot\u001b[38;5;241m.\u001b[39mtweet_at_provider()\n",
      "Cell \u001b[1;32mIn[16], line 3\u001b[0m, in \u001b[0;36mInternetSpeedBot.__init__\u001b[1;34m(self)\u001b[0m\n\u001b[0;32m      2\u001b[0m \u001b[38;5;28;01mdef\u001b[39;00m \u001b[38;5;21m__init__\u001b[39m(\u001b[38;5;28mself\u001b[39m):\n\u001b[1;32m----> 3\u001b[0m     \u001b[38;5;28mself\u001b[39m\u001b[38;5;241m.\u001b[39mdriver \u001b[38;5;241m=\u001b[39m \u001b[43mwebdriver\u001b[49m\u001b[38;5;241;43m.\u001b[39;49m\u001b[43mChrome\u001b[49m\u001b[43m(\u001b[49m\u001b[43m)\u001b[49m\n\u001b[0;32m      4\u001b[0m     \u001b[38;5;28mself\u001b[39m\u001b[38;5;241m.\u001b[39mdown \u001b[38;5;241m=\u001b[39m \u001b[38;5;241m0\u001b[39m\n\u001b[0;32m      5\u001b[0m     \u001b[38;5;28mself\u001b[39m\u001b[38;5;241m.\u001b[39mup \u001b[38;5;241m=\u001b[39m \u001b[38;5;241m0\u001b[39m\n",
      "File \u001b[1;32md:\\Web\\Development\\web scraping\\.venv\\Lib\\site-packages\\selenium\\webdriver\\chrome\\webdriver.py:45\u001b[0m, in \u001b[0;36mWebDriver.__init__\u001b[1;34m(self, options, service, keep_alive)\u001b[0m\n\u001b[0;32m     42\u001b[0m service \u001b[38;5;241m=\u001b[39m service \u001b[38;5;28;01mif\u001b[39;00m service \u001b[38;5;28;01melse\u001b[39;00m Service()\n\u001b[0;32m     43\u001b[0m options \u001b[38;5;241m=\u001b[39m options \u001b[38;5;28;01mif\u001b[39;00m options \u001b[38;5;28;01melse\u001b[39;00m Options()\n\u001b[1;32m---> 45\u001b[0m \u001b[38;5;28;43msuper\u001b[39;49m\u001b[43m(\u001b[49m\u001b[43m)\u001b[49m\u001b[38;5;241;43m.\u001b[39;49m\u001b[38;5;21;43m__init__\u001b[39;49m\u001b[43m(\u001b[49m\n\u001b[0;32m     46\u001b[0m \u001b[43m    \u001b[49m\u001b[43mbrowser_name\u001b[49m\u001b[38;5;241;43m=\u001b[39;49m\u001b[43mDesiredCapabilities\u001b[49m\u001b[38;5;241;43m.\u001b[39;49m\u001b[43mCHROME\u001b[49m\u001b[43m[\u001b[49m\u001b[38;5;124;43m\"\u001b[39;49m\u001b[38;5;124;43mbrowserName\u001b[39;49m\u001b[38;5;124;43m\"\u001b[39;49m\u001b[43m]\u001b[49m\u001b[43m,\u001b[49m\n\u001b[0;32m     47\u001b[0m \u001b[43m    \u001b[49m\u001b[43mvendor_prefix\u001b[49m\u001b[38;5;241;43m=\u001b[39;49m\u001b[38;5;124;43m\"\u001b[39;49m\u001b[38;5;124;43mgoog\u001b[39;49m\u001b[38;5;124;43m\"\u001b[39;49m\u001b[43m,\u001b[49m\n\u001b[0;32m     48\u001b[0m \u001b[43m    \u001b[49m\u001b[43moptions\u001b[49m\u001b[38;5;241;43m=\u001b[39;49m\u001b[43moptions\u001b[49m\u001b[43m,\u001b[49m\n\u001b[0;32m     49\u001b[0m \u001b[43m    \u001b[49m\u001b[43mservice\u001b[49m\u001b[38;5;241;43m=\u001b[39;49m\u001b[43mservice\u001b[49m\u001b[43m,\u001b[49m\n\u001b[0;32m     50\u001b[0m \u001b[43m    \u001b[49m\u001b[43mkeep_alive\u001b[49m\u001b[38;5;241;43m=\u001b[39;49m\u001b[43mkeep_alive\u001b[49m\u001b[43m,\u001b[49m\n\u001b[0;32m     51\u001b[0m \u001b[43m\u001b[49m\u001b[43m)\u001b[49m\n",
      "File \u001b[1;32md:\\Web\\Development\\web scraping\\.venv\\Lib\\site-packages\\selenium\\webdriver\\chromium\\webdriver.py:66\u001b[0m, in \u001b[0;36mChromiumDriver.__init__\u001b[1;34m(self, browser_name, vendor_prefix, options, service, keep_alive)\u001b[0m\n\u001b[0;32m     57\u001b[0m executor \u001b[38;5;241m=\u001b[39m ChromiumRemoteConnection(\n\u001b[0;32m     58\u001b[0m     remote_server_addr\u001b[38;5;241m=\u001b[39m\u001b[38;5;28mself\u001b[39m\u001b[38;5;241m.\u001b[39mservice\u001b[38;5;241m.\u001b[39mservice_url,\n\u001b[0;32m     59\u001b[0m     browser_name\u001b[38;5;241m=\u001b[39mbrowser_name,\n\u001b[1;32m   (...)\u001b[0m\n\u001b[0;32m     62\u001b[0m     ignore_proxy\u001b[38;5;241m=\u001b[39moptions\u001b[38;5;241m.\u001b[39m_ignore_local_proxy,\n\u001b[0;32m     63\u001b[0m )\n\u001b[0;32m     65\u001b[0m \u001b[38;5;28;01mtry\u001b[39;00m:\n\u001b[1;32m---> 66\u001b[0m     \u001b[38;5;28;43msuper\u001b[39;49m\u001b[43m(\u001b[49m\u001b[43m)\u001b[49m\u001b[38;5;241;43m.\u001b[39;49m\u001b[38;5;21;43m__init__\u001b[39;49m\u001b[43m(\u001b[49m\u001b[43mcommand_executor\u001b[49m\u001b[38;5;241;43m=\u001b[39;49m\u001b[43mexecutor\u001b[49m\u001b[43m,\u001b[49m\u001b[43m \u001b[49m\u001b[43moptions\u001b[49m\u001b[38;5;241;43m=\u001b[39;49m\u001b[43moptions\u001b[49m\u001b[43m)\u001b[49m\n\u001b[0;32m     67\u001b[0m \u001b[38;5;28;01mexcept\u001b[39;00m \u001b[38;5;167;01mException\u001b[39;00m:\n\u001b[0;32m     68\u001b[0m     \u001b[38;5;28mself\u001b[39m\u001b[38;5;241m.\u001b[39mquit()\n",
      "File \u001b[1;32md:\\Web\\Development\\web scraping\\.venv\\Lib\\site-packages\\selenium\\webdriver\\remote\\webdriver.py:208\u001b[0m, in \u001b[0;36mWebDriver.__init__\u001b[1;34m(self, command_executor, keep_alive, file_detector, options)\u001b[0m\n\u001b[0;32m    206\u001b[0m \u001b[38;5;28mself\u001b[39m\u001b[38;5;241m.\u001b[39m_authenticator_id \u001b[38;5;241m=\u001b[39m \u001b[38;5;28;01mNone\u001b[39;00m\n\u001b[0;32m    207\u001b[0m \u001b[38;5;28mself\u001b[39m\u001b[38;5;241m.\u001b[39mstart_client()\n\u001b[1;32m--> 208\u001b[0m \u001b[38;5;28;43mself\u001b[39;49m\u001b[38;5;241;43m.\u001b[39;49m\u001b[43mstart_session\u001b[49m\u001b[43m(\u001b[49m\u001b[43mcapabilities\u001b[49m\u001b[43m)\u001b[49m\n",
      "File \u001b[1;32md:\\Web\\Development\\web scraping\\.venv\\Lib\\site-packages\\selenium\\webdriver\\remote\\webdriver.py:292\u001b[0m, in \u001b[0;36mWebDriver.start_session\u001b[1;34m(self, capabilities)\u001b[0m\n\u001b[0;32m    285\u001b[0m \u001b[38;5;250m\u001b[39m\u001b[38;5;124;03m\"\"\"Creates a new session with the desired capabilities.\u001b[39;00m\n\u001b[0;32m    286\u001b[0m \n\u001b[0;32m    287\u001b[0m \u001b[38;5;124;03m:Args:\u001b[39;00m\n\u001b[0;32m    288\u001b[0m \u001b[38;5;124;03m - capabilities - a capabilities dict to start the session with.\u001b[39;00m\n\u001b[0;32m    289\u001b[0m \u001b[38;5;124;03m\"\"\"\u001b[39;00m\n\u001b[0;32m    291\u001b[0m caps \u001b[38;5;241m=\u001b[39m _create_caps(capabilities)\n\u001b[1;32m--> 292\u001b[0m response \u001b[38;5;241m=\u001b[39m \u001b[38;5;28;43mself\u001b[39;49m\u001b[38;5;241;43m.\u001b[39;49m\u001b[43mexecute\u001b[49m\u001b[43m(\u001b[49m\u001b[43mCommand\u001b[49m\u001b[38;5;241;43m.\u001b[39;49m\u001b[43mNEW_SESSION\u001b[49m\u001b[43m,\u001b[49m\u001b[43m \u001b[49m\u001b[43mcaps\u001b[49m\u001b[43m)\u001b[49m[\u001b[38;5;124m\"\u001b[39m\u001b[38;5;124mvalue\u001b[39m\u001b[38;5;124m\"\u001b[39m]\n\u001b[0;32m    293\u001b[0m \u001b[38;5;28mself\u001b[39m\u001b[38;5;241m.\u001b[39msession_id \u001b[38;5;241m=\u001b[39m response\u001b[38;5;241m.\u001b[39mget(\u001b[38;5;124m\"\u001b[39m\u001b[38;5;124msessionId\u001b[39m\u001b[38;5;124m\"\u001b[39m)\n\u001b[0;32m    294\u001b[0m \u001b[38;5;28mself\u001b[39m\u001b[38;5;241m.\u001b[39mcaps \u001b[38;5;241m=\u001b[39m response\u001b[38;5;241m.\u001b[39mget(\u001b[38;5;124m\"\u001b[39m\u001b[38;5;124mcapabilities\u001b[39m\u001b[38;5;124m\"\u001b[39m)\n",
      "File \u001b[1;32md:\\Web\\Development\\web scraping\\.venv\\Lib\\site-packages\\selenium\\webdriver\\remote\\webdriver.py:347\u001b[0m, in \u001b[0;36mWebDriver.execute\u001b[1;34m(self, driver_command, params)\u001b[0m\n\u001b[0;32m    345\u001b[0m response \u001b[38;5;241m=\u001b[39m \u001b[38;5;28mself\u001b[39m\u001b[38;5;241m.\u001b[39mcommand_executor\u001b[38;5;241m.\u001b[39mexecute(driver_command, params)\n\u001b[0;32m    346\u001b[0m \u001b[38;5;28;01mif\u001b[39;00m response:\n\u001b[1;32m--> 347\u001b[0m     \u001b[38;5;28;43mself\u001b[39;49m\u001b[38;5;241;43m.\u001b[39;49m\u001b[43merror_handler\u001b[49m\u001b[38;5;241;43m.\u001b[39;49m\u001b[43mcheck_response\u001b[49m\u001b[43m(\u001b[49m\u001b[43mresponse\u001b[49m\u001b[43m)\u001b[49m\n\u001b[0;32m    348\u001b[0m     response[\u001b[38;5;124m\"\u001b[39m\u001b[38;5;124mvalue\u001b[39m\u001b[38;5;124m\"\u001b[39m] \u001b[38;5;241m=\u001b[39m \u001b[38;5;28mself\u001b[39m\u001b[38;5;241m.\u001b[39m_unwrap_value(response\u001b[38;5;241m.\u001b[39mget(\u001b[38;5;124m\"\u001b[39m\u001b[38;5;124mvalue\u001b[39m\u001b[38;5;124m\"\u001b[39m, \u001b[38;5;28;01mNone\u001b[39;00m))\n\u001b[0;32m    349\u001b[0m     \u001b[38;5;28;01mreturn\u001b[39;00m response\n",
      "File \u001b[1;32md:\\Web\\Development\\web scraping\\.venv\\Lib\\site-packages\\selenium\\webdriver\\remote\\errorhandler.py:229\u001b[0m, in \u001b[0;36mErrorHandler.check_response\u001b[1;34m(self, response)\u001b[0m\n\u001b[0;32m    227\u001b[0m         alert_text \u001b[38;5;241m=\u001b[39m value[\u001b[38;5;124m\"\u001b[39m\u001b[38;5;124malert\u001b[39m\u001b[38;5;124m\"\u001b[39m]\u001b[38;5;241m.\u001b[39mget(\u001b[38;5;124m\"\u001b[39m\u001b[38;5;124mtext\u001b[39m\u001b[38;5;124m\"\u001b[39m)\n\u001b[0;32m    228\u001b[0m     \u001b[38;5;28;01mraise\u001b[39;00m exception_class(message, screen, stacktrace, alert_text)  \u001b[38;5;66;03m# type: ignore[call-arg]  # mypy is not smart enough here\u001b[39;00m\n\u001b[1;32m--> 229\u001b[0m \u001b[38;5;28;01mraise\u001b[39;00m exception_class(message, screen, stacktrace)\n",
      "\u001b[1;31mWebDriverException\u001b[0m: Message: disconnected: unable to connect to renderer\nStacktrace:\n\tGetHandleVerifier [0x00007FF6AD471562+60802]\n\t(No symbol) [0x00007FF6AD3EAC62]\n\t(No symbol) [0x00007FF6AD2A7CE4]\n\t(No symbol) [0x00007FF6AD2E5277]\n\t(No symbol) [0x00007FF6AD2DFF39]\n\t(No symbol) [0x00007FF6AD2DAA64]\n\t(No symbol) [0x00007FF6AD326037]\n\t(No symbol) [0x00007FF6AD3256B0]\n\t(No symbol) [0x00007FF6AD31A923]\n\t(No symbol) [0x00007FF6AD2E8FEC]\n\t(No symbol) [0x00007FF6AD2E9C21]\n\tGetHandleVerifier [0x00007FF6AD7741FD+3217949]\n\tGetHandleVerifier [0x00007FF6AD7B6197+3488183]\n\tGetHandleVerifier [0x00007FF6AD7AF11F+3459391]\n\tGetHandleVerifier [0x00007FF6AD52B926+823622]\n\t(No symbol) [0x00007FF6AD3F5FFF]\n\t(No symbol) [0x00007FF6AD3F0F24]\n\t(No symbol) [0x00007FF6AD3F10B2]\n\t(No symbol) [0x00007FF6AD3E1904]\n\tBaseThreadInitThunk [0x00007FFD81C17344+20]\n\tRtlUserThreadStart [0x00007FFD82B826B1+33]\n"
     ]
    }
   ],
   "source": [
    "i_s_bot = InternetSpeedBot()\n",
    "\n",
    "i_s_bot.tweet_at_provider()"
   ]
  },
  {
   "cell_type": "code",
   "execution_count": 18,
   "metadata": {},
   "outputs": [],
   "source": [
    "import os\n",
    "from selenium import webdriver\n",
    "from selenium.webdriver.common.by import By\n",
    "from selenium.webdriver.common.keys import Keys\n",
    "from selenium.webdriver.support.ui import WebDriverWait\n",
    "from selenium.webdriver.support import expected_conditions as EC\n",
    "from selenium.common.exceptions import WebDriverException\n",
    "\n",
    "class InternetSpeedBot():\n",
    "    def __init__(self):\n",
    "        self.driver = None\n",
    "        self.down = 0\n",
    "        self.up = 0\n",
    "\n",
    "    def initialize_driver(self):\n",
    "        try:\n",
    "            self.driver = webdriver.Chrome()\n",
    "        except WebDriverException as e:\n",
    "            print(\"Error initializing Chrome WebDriver:\", e)\n",
    "\n",
    "    def get_internet_speed(self):\n",
    "        try:\n",
    "            self.driver.get('https://www.speedtest.net/')\n",
    "\n",
    "            wait = WebDriverWait(self.driver, 10)\n",
    "\n",
    "            go_button = wait.until(EC.presence_of_element_located((By.CSS_SELECTOR, '.start-button a')))\n",
    "            go_button.click()\n",
    "\n",
    "            self.up = wait.until(EC.presence_of_element_located((By.XPATH, '//*[@id=\"container\"]/div/div[3]/div/div/div/div[2]/div[3]/div[3]/div/div[3]/div/div/div[2]/div[1]/div[2]/div/div[2]/span'))).text\n",
    "            self.down = self.driver.find_element(By.XPATH, '//*[@id=\"container\"]/div/div[3]/div/div/div/div[2]/div[3]/div[3]/div/div[3]/div/div/div[2]/div[1]/div[3]/div/div[2]/span').text\n",
    "        except Exception as e:\n",
    "            print(\"Error getting internet speed:\", e)\n",
    "\n",
    "    def tweet_at_provider(self):\n",
    "        try:\n",
    "            self.driver.get('https://twitter.com/login')\n",
    "\n",
    "            wait = WebDriverWait(self.driver, 60)\n",
    "\n",
    "            email = wait.until(EC.presence_of_element_located((By.XPATH, '//*[@id=\"layers\"]/div[2]/div/div/div/div/div/div[2]/div[2]/div/div/div[2]/div[2]/div/div/div/div[5]/label/div/div[2]/div/input')))\n",
    "            password = wait.until(EC.presence_of_element_located((By.XPATH, '//*[@id=\"layers\"]/div[2]/div/div/div/div/div/div[2]/div[2]/div/div/div[2]/div[2]/div/div/div/div[5]/label/div/div[2]/div/input')))\n",
    "\n",
    "            email.send_keys(os.getenv('X_EMAIL'))\n",
    "            password.send_keys(os.getenv('X_PASSWORD'))\n",
    "            password.send_keys(Keys.ENTER)\n",
    "\n",
    "            tweet_compose = wait.until(EC.presence_of_element_located((By.XPATH, '/html/body/div[1]/div/div/div[2]/header/div/div/div/div[1]/div[3]/a/div')))\n",
    "            \n",
    "            tweet = f\"Hey @SafaricomPLC, why is my internet speed {self.down} down/{self.up} up when I pay for {os.getenv('PROMISED_DOWN')} down/{os.getenv('PROMISED_UP')} up?\" \n",
    "            tweet_compose.send_keys(tweet)\n",
    "\n",
    "            tweet_button = wait.until(EC.presence_of_element_located((By.XPATH, '/html/body/div[1]/div/div/div[1]/div[2]/div/div/div/div/div/div[2]/div[2]/div/div/div/div[3]/div[2]/div[1]/div/div/div/div[2]/div[2]/div/div/div/div[4]')))\n",
    "            tweet_button.click()\n",
    "        except Exception as e:\n",
    "            print(\"Error tweeting at provider:\", e)\n",
    "        finally:\n",
    "            if self.driver:\n",
    "                self.driver.quit()"
   ]
  },
  {
   "cell_type": "code",
   "execution_count": 21,
   "metadata": {},
   "outputs": [
    {
     "name": "stdout",
     "output_type": "stream",
     "text": [
      "Error getting internet speed: Message: no such element: Unable to locate element: {\"method\":\"xpath\",\"selector\":\"//*[@id=\"container\"]/div/div[3]/div/div/div/div[2]/div[3]/div[3]/div/div[3]/div/div/div[2]/div[1]/div[3]/div/div[2]/span\"}\n",
      "  (Session info: chrome=124.0.6367.156); For documentation on this error, please visit: https://www.selenium.dev/documentation/webdriver/troubleshooting/errors#no-such-element-exception\n",
      "Stacktrace:\n",
      "\tGetHandleVerifier [0x00007FF6AD471562+60802]\n",
      "\t(No symbol) [0x00007FF6AD3EAC62]\n",
      "\t(No symbol) [0x00007FF6AD2A7CE4]\n",
      "\t(No symbol) [0x00007FF6AD2F6D4D]\n",
      "\t(No symbol) [0x00007FF6AD2F6E1C]\n",
      "\t(No symbol) [0x00007FF6AD33CE37]\n",
      "\t(No symbol) [0x00007FF6AD31ABBF]\n",
      "\t(No symbol) [0x00007FF6AD33A224]\n",
      "\t(No symbol) [0x00007FF6AD31A923]\n",
      "\t(No symbol) [0x00007FF6AD2E8FEC]\n",
      "\t(No symbol) [0x00007FF6AD2E9C21]\n",
      "\tGetHandleVerifier [0x00007FF6AD7741FD+3217949]\n",
      "\tGetHandleVerifier [0x00007FF6AD7B6197+3488183]\n",
      "\tGetHandleVerifier [0x00007FF6AD7AF11F+3459391]\n",
      "\tGetHandleVerifier [0x00007FF6AD52B926+823622]\n",
      "\t(No symbol) [0x00007FF6AD3F5FFF]\n",
      "\t(No symbol) [0x00007FF6AD3F0F24]\n",
      "\t(No symbol) [0x00007FF6AD3F10B2]\n",
      "\t(No symbol) [0x00007FF6AD3E1904]\n",
      "\tBaseThreadInitThunk [0x00007FFD81C17344+20]\n",
      "\tRtlUserThreadStart [0x00007FFD82B826B1+33]\n",
      "\n"
     ]
    }
   ],
   "source": [
    "# Example usage:\n",
    "bot = InternetSpeedBot()\n",
    "bot.initialize_driver()\n",
    "bot.get_internet_speed()"
   ]
  },
  {
   "cell_type": "code",
   "execution_count": null,
   "metadata": {},
   "outputs": [],
   "source": [
    "# bot = InternetSpeedBot()\n",
    "# bot.initialize_driver()\n",
    "bot.tweet_at_provider()"
   ]
  }
 ],
 "metadata": {
  "kernelspec": {
   "display_name": ".venv",
   "language": "python",
   "name": "python3"
  },
  "language_info": {
   "codemirror_mode": {
    "name": "ipython",
    "version": 3
   },
   "file_extension": ".py",
   "mimetype": "text/x-python",
   "name": "python",
   "nbconvert_exporter": "python",
   "pygments_lexer": "ipython3",
   "version": "3.11.9"
  }
 },
 "nbformat": 4,
 "nbformat_minor": 2
}
