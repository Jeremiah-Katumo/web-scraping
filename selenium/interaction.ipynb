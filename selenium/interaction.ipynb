{
 "cells": [
  {
   "cell_type": "code",
   "execution_count": null,
   "metadata": {},
   "outputs": [],
   "source": [
    "from selenium import webdriver\n",
    "from selenium.webdriver.common.by import By\n",
    "from selenium.webdriver.common.keys import Keys\n",
    "\n",
    "# Keep Chrome browser open after program finishes\n",
    "chrome_options = webdriver.ChromeOptions()\n",
    "chrome_options.add_experimental_option(\"detach\", True)\n",
    "\n",
    "# Create and configure the Chrome webdriver\n",
    "driver = webdriver.Chrome(options=chrome_options)\n",
    "\n",
    "# Navigate to Wikipedia\n",
    "driver.get(\"https://en.wikipedia.org/wiki/Main_Page\")\n",
    "\n",
    "# Hone in on anchor tag using CSS selectors\n",
    "article_count = driver.find_element(By.CSS_SELECTOR, value=\"#articlecount a\")\n",
    "# article_count.click()\n",
    "\n",
    "# Find element by Link Text\n",
    "all_portals = driver.find_element(By.LINK_TEXT, value=\"Content portals\")\n",
    "# all_portals.click()\n",
    "\n",
    "# Find the \"Search\" <input> by Name\n",
    "search = driver.find_element(By.NAME, value=\"search\")\n",
    "\n",
    "# Sending keyboard input to Selenium\n",
    "search.send_keys(\"Python\", Keys.ENTER)"
   ]
  }
 ],
 "metadata": {
  "kernelspec": {
   "display_name": ".venv",
   "language": "python",
   "name": "python3"
  },
  "language_info": {
   "name": "python",
   "version": "3.11.4"
  }
 },
 "nbformat": 4,
 "nbformat_minor": 2
}
