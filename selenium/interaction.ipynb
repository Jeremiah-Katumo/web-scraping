{
 "cells": [
  {
   "cell_type": "code",
   "execution_count": 6,
   "metadata": {},
   "outputs": [],
   "source": [
    "from selenium import webdriver\n",
    "from selenium.webdriver.common.by import By\n",
    "from selenium.webdriver.common.keys import Keys\n",
    "\n",
    "# Keep Chrome browser open after program finishes\n",
    "chrome_options = webdriver.ChromeOptions()\n",
    "chrome_options.add_experimental_option(\"detach\", True)\n",
    "\n",
    "# Create and configure the Chrome webdriver\n",
    "driver = webdriver.Chrome(options=chrome_options)\n",
    "\n",
    "# Navigate to Wikipedia\n",
    "driver.get(\"https://en.wikipedia.org/wiki/Main_Page\")"
   ]
  },
  {
   "cell_type": "code",
   "execution_count": 7,
   "metadata": {},
   "outputs": [],
   "source": [
    "# Hone in on anchor tag using CSS selectors\n",
    "article_count = driver.find_element(By.CSS_SELECTOR, value=\"#articlecount a\")\n",
    "# article_count.click()   # how to click on a button\n",
    "\n",
    "# Find element by Link Text\n",
    "all_portals = driver.find_element(By.LINK_TEXT, value=\"Content portals\")\n",
    "# all_portals.click()\n",
    "\n",
    "# Find the \"Search\" <input> by Name\n",
    "search = driver.find_element(By.NAME, value=\"search\")\n",
    "\n",
    "# Sending keyboard input to Selenium\n",
    "search.send_keys(\"Python\", Keys.ENTER)"
   ]
  }
 ],
 "metadata": {
  "kernelspec": {
   "display_name": ".venv",
   "language": "python",
   "name": "python3"
  },
  "language_info": {
   "codemirror_mode": {
    "name": "ipython",
    "version": 3
   },
   "file_extension": ".py",
   "mimetype": "text/x-python",
   "name": "python",
   "nbconvert_exporter": "python",
   "pygments_lexer": "ipython3",
   "version": "3.11.9"
  }
 },
 "nbformat": 4,
 "nbformat_minor": 2
}
