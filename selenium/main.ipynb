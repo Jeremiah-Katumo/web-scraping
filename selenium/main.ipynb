{
 "cells": [
  {
   "cell_type": "code",
   "execution_count": null,
   "metadata": {},
   "outputs": [],
   "source": [
    "from selenium import webdriver\n",
    "from selenium.webdriver.common.by import By\n",
    "\n",
    "# Keep Chrome browser open after program finishes\n",
    "chrome_options = webdriver.ChromeOptions()\n",
    "chrome_options.add_experimental_option(\"detach\", True)\n",
    "\n",
    "# Create and configure the Chrome webdriver\n",
    "driver = webdriver.Chrome(options=chrome_options)\n",
    "\n",
    "# Python.org\n",
    "driver.get(\"https://www.python.org/\")\n",
    "\n",
    "# Amazon's Instant Pot\n",
    "# driver.get(\"https://www.amazon.com/Instant-Pot-Plus-60-Programmable/dp/B01NBKTPTS/?th=1\")\n",
    "\n",
    "# By.CLASS_NAME (uses amazon.com website)\n",
    "# price_dollar = driver.find_element(By.CLASS_NAME, value=\"a-price-whole\")\n",
    "# price_cents = driver.find_element(By.CLASS_NAME, value=\"a-price-fraction\")\n",
    "# print(f\"The price is {price_dollar.text}.{price_cents.text}\")\n",
    "\n",
    "# Locating strategies for a single element\n",
    "# By.NAME\n",
    "search_bar = driver.find_element(By.NAME, value=\"q\")\n",
    "# print(search_bar.get_attribute(\"placeholder\"))\n",
    "\n",
    "# By.ID\n",
    "button = driver.find_element(By.ID, value=\"submit\")\n",
    "# print(button.size)\n",
    "\n",
    "# By.CSS_SELECTOR\n",
    "documentation_link = driver.find_element(By.CSS_SELECTOR, value=\".documentation-widget a\")\n",
    "# print(documentation_link.text)\n",
    "\n",
    "# By.XPath\n",
    "bug_link = driver.find_element(By.XPATH, value='//*[@id=\"site-map\"]/div[2]/div/ul/li[3]/a')\n",
    "# print(bug_link.text)\n",
    "\n",
    "# Finding multiple elements\n",
    "tier_1 = driver.find_elements(By.CLASS_NAME, value=\"tier-1\")\n",
    "\n",
    "# Challenge: Print the event dates from python.org\n",
    "event_times = driver.find_elements(By.CSS_SELECTOR, value=\".event-widget time\")\n",
    "event_names = driver.find_elements(By.CSS_SELECTOR, value=\".event-widget li a\")\n",
    "events = {}\n",
    "\n",
    "for n in range(len(event_times)):\n",
    "    events[n] = {\n",
    "        \"time\": event_times[n].text,\n",
    "        \"name\": event_names[n].text,\n",
    "    }\n",
    "print(events)\n",
    "\n",
    "# driver.close()\n",
    "driver.quit()"
   ]
  },
  {
   "cell_type": "code",
   "execution_count": 5,
   "metadata": {},
   "outputs": [
    {
     "name": "stdout",
     "output_type": "stream",
     "text": [
      "Collecting pytorch\n",
      "  Using cached pytorch-1.0.2.tar.gz (689 bytes)\n",
      "  Preparing metadata (setup.py): started\n",
      "  Preparing metadata (setup.py): finished with status 'done'\n",
      "Building wheels for collected packages: pytorch\n",
      "  Building wheel for pytorch (setup.py): started\n",
      "  Building wheel for pytorch (setup.py): finished with status 'error'\n",
      "  Running setup.py clean for pytorch\n",
      "Failed to build pytorch\n"
     ]
    },
    {
     "name": "stderr",
     "output_type": "stream",
     "text": [
      "  error: subprocess-exited-with-error\n",
      "  \n",
      "  × python setup.py bdist_wheel did not run successfully.\n",
      "  │ exit code: 1\n",
      "  ╰─> [6 lines of output]\n",
      "      Traceback (most recent call last):\n",
      "        File \"<string>\", line 2, in <module>\n",
      "        File \"<pip-setuptools-caller>\", line 34, in <module>\n",
      "        File \"C:\\Users\\jerem\\AppData\\Local\\Temp\\pip-install-r04o2qk9\\pytorch_f510bb8fda7e43a5be169535867e5b9a\\setup.py\", line 15, in <module>\n",
      "          raise Exception(message)\n",
      "      Exception: You tried to install \"pytorch\". The package named for PyTorch is \"torch\"\n",
      "      [end of output]\n",
      "  \n",
      "  note: This error originates from a subprocess, and is likely not a problem with pip.\n",
      "  ERROR: Failed building wheel for pytorch\n",
      "ERROR: Could not build wheels for pytorch, which is required to install pyproject.toml-based projects\n"
     ]
    }
   ],
   "source": [
    "!pip install pytorch"
   ]
  },
  {
   "cell_type": "code",
   "execution_count": null,
   "metadata": {},
   "outputs": [],
   "source": []
  }
 ],
 "metadata": {
  "kernelspec": {
   "display_name": ".venv",
   "language": "python",
   "name": "python3"
  },
  "language_info": {
   "codemirror_mode": {
    "name": "ipython",
    "version": 3
   },
   "file_extension": ".py",
   "mimetype": "text/x-python",
   "name": "python",
   "nbconvert_exporter": "python",
   "pygments_lexer": "ipython3",
   "version": "3.11.4"
  }
 },
 "nbformat": 4,
 "nbformat_minor": 2
}
