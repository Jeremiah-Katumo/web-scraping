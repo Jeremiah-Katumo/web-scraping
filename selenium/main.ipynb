{
 "cells": [
  {
   "cell_type": "code",
   "execution_count": 14,
   "metadata": {},
   "outputs": [],
   "source": [
    "from selenium import webdriver\n",
    "from selenium.webdriver.common.by import By\n",
    "\n",
    "# Keep Chrome browser open after program finishes\n",
    "chrome_options = webdriver.ChromeOptions()\n",
    "chrome_options.add_experimental_option(\"detach\", True)\n",
    "\n",
    "# Create and configure the Chrome webdriver\n",
    "driver = webdriver.Chrome(options=chrome_options)"
   ]
  },
  {
   "cell_type": "code",
   "execution_count": 15,
   "metadata": {},
   "outputs": [],
   "source": [
    "# Python.org\n",
    "driver.get(\"https://www.python.org/\")"
   ]
  },
  {
   "cell_type": "code",
   "execution_count": 16,
   "metadata": {},
   "outputs": [
    {
     "name": "stdout",
     "output_type": "stream",
     "text": [
      "{0: {'time': '2024-05-15', 'name': 'PyCon US 2024'}, 1: {'time': '2024-05-17', 'name': 'Flask Con 2024'}, 2: {'time': '2024-05-17', 'name': 'PyGrunn 2024'}, 3: {'time': '2024-05-17', 'name': 'Django Girls Ecuador 2024'}, 4: {'time': '2024-05-18', 'name': 'Django Girls Groningen'}}\n"
     ]
    }
   ],
   "source": [
    "# Amazon's Instant Pot\n",
    "# driver.get(\"https://www.amazon.com/Instant-Pot-Plus-60-Programmable/dp/B01NBKTPTS/?th=1\")\n",
    "\n",
    "# By.CLASS_NAME (uses amazon.com website)\n",
    "# price_dollar = driver.find_element(By.CLASS_NAME, value=\"a-price-whole\")\n",
    "# price_cents = driver.find_element(By.CLASS_NAME, value=\"a-price-fraction\")\n",
    "# print(f\"The price is {price_dollar.text}.{price_cents.text}\")\n",
    "\n",
    "# Locating strategies for a single element\n",
    "# By.NAME\n",
    "search_bar = driver.find_element(By.NAME, value=\"q\")\n",
    "# print(search_bar.get_attribute(\"placeholder\"))\n",
    "\n",
    "# By.ID\n",
    "button = driver.find_element(By.ID, value=\"submit\")\n",
    "# print(button.size)\n",
    "\n",
    "# By.CSS_SELECTOR\n",
    "documentation_link = driver.find_element(By.CSS_SELECTOR, value=\".documentation-widget a\")\n",
    "# print(documentation_link.text)\n",
    "\n",
    "# By.XPath\n",
    "bug_link = driver.find_element(By.XPATH, value='//*[@id=\"site-map\"]/div[2]/div/ul/li[3]/a')\n",
    "# print(bug_link.text)\n",
    "\n",
    "# Finding multiple elements\n",
    "tier_1 = driver.find_elements(By.CLASS_NAME, value=\"tier-1\")\n",
    "\n",
    "# Challenge: Print the event dates from python.org\n",
    "event_times = driver.find_elements(By.CSS_SELECTOR, value=\".event-widget time\")\n",
    "event_names = driver.find_elements(By.CSS_SELECTOR, value=\".event-widget li a\")\n",
    "events = {}\n",
    "\n",
    "for n in range(len(event_times)):\n",
    "    events[n] = {\n",
    "        \"time\": event_times[n].text,\n",
    "        \"name\": event_names[n].text,\n",
    "    }\n",
    "print(events)"
   ]
  },
  {
   "cell_type": "code",
   "execution_count": 17,
   "metadata": {},
   "outputs": [],
   "source": [
    "# driver.close()\n",
    "driver.quit()"
   ]
  },
  {
   "cell_type": "code",
   "execution_count": null,
   "metadata": {},
   "outputs": [],
   "source": []
  }
 ],
 "metadata": {
  "kernelspec": {
   "display_name": ".venv",
   "language": "python",
   "name": "python3"
  },
  "language_info": {
   "codemirror_mode": {
    "name": "ipython",
    "version": 3
   },
   "file_extension": ".py",
   "mimetype": "text/x-python",
   "name": "python",
   "nbconvert_exporter": "python",
   "pygments_lexer": "ipython3",
   "version": "3.11.9"
  }
 },
 "nbformat": 4,
 "nbformat_minor": 2
}
