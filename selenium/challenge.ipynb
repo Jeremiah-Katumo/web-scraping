{
 "cells": [
  {
   "cell_type": "code",
   "execution_count": 2,
   "metadata": {},
   "outputs": [],
   "source": [
    "from selenium import webdriver\n",
    "from selenium.webdriver.common.by import By\n",
    "from selenium.webdriver.common.keys import Keys\n",
    "\n",
    "# Keep Chrome browser open after program finishes\n",
    "chrome_options = webdriver.ChromeOptions()\n",
    "chrome_options.add_experimental_option(\"detach\", True)\n",
    "\n",
    "# Create and configure the Chrome webdriver\n",
    "driver = webdriver.Chrome(options=chrome_options)\n",
    "\n",
    "# Navigate to the (fake) newsletter registration page \n",
    "driver.get(\"https://secure-retreat-92358.herokuapp.com/\")\n",
    "\n",
    "# Find the first name, last name, and email fields\n",
    "first_name = driver.find_element(By.NAME, value=\"fName\")\n",
    "last_name = driver.find_element(By.NAME, value=\"lName\")\n",
    "email = driver.find_element(By.NAME, value=\"email\")\n",
    "\n",
    "# Fill out the form\n",
    "first_name.send_keys(\"Angela\")\n",
    "last_name.send_keys(\"Yu\")\n",
    "email.send_keys(\"angela@email.com\")\n",
    "\n",
    "# Locate the \"Sign Up\" button. Then click on it\n",
    "submit = driver.find_element(By.CSS_SELECTOR, value=\"form button\")\n",
    "submit.click()"
   ]
  },
  {
   "cell_type": "code",
   "execution_count": 3,
   "metadata": {},
   "outputs": [
    {
     "name": "stderr",
     "output_type": "stream",
     "text": [
      "'pip' is not recognized as an internal or external command,\n",
      "operable program or batch file.\n"
     ]
    }
   ],
   "source": [
    "!pip freeze"
   ]
  },
  {
   "cell_type": "code",
   "execution_count": 1,
   "metadata": {},
   "outputs": [
    {
     "name": "stdout",
     "output_type": "stream",
     "text": [
      "Collecting pandas"
     ]
    },
    {
     "name": "stderr",
     "output_type": "stream",
     "text": [
      "ERROR: Ignored the following versions that require a different python version: 1.6.2 Requires-Python >=3.7,<3.10; 1.6.3 Requires-Python >=3.7,<3.10; 1.7.0 Requires-Python >=3.7,<3.10; 1.7.1 Requires-Python >=3.7,<3.10; 1.7.2 Requires-Python >=3.7,<3.11; 1.7.3 Requires-Python >=3.7,<3.11; 1.8.0 Requires-Python >=3.8,<3.11; 1.8.0rc1 Requires-Python >=3.8,<3.11; 1.8.0rc2 Requires-Python >=3.8,<3.11; 1.8.0rc3 Requires-Python >=3.8,<3.11; 1.8.0rc4 Requires-Python >=3.8,<3.11; 1.8.1 Requires-Python >=3.8,<3.11\n",
      "ERROR: Could not find a version that satisfies the requirement pyplot (from versions: none)\n",
      "ERROR: No matching distribution found for pyplot\n"
     ]
    },
    {
     "name": "stdout",
     "output_type": "stream",
     "text": [
      "\n",
      "  Downloading pandas-2.2.2-cp311-cp311-win_amd64.whl.metadata (19 kB)\n",
      "Collecting tensorflow\n",
      "  Downloading tensorflow-2.16.1-cp311-cp311-win_amd64.whl.metadata (3.5 kB)\n",
      "Collecting scikit-learn\n",
      "  Downloading scikit_learn-1.4.2-cp311-cp311-win_amd64.whl.metadata (11 kB)\n",
      "Collecting keras\n",
      "  Downloading keras-3.3.3-py3-none-any.whl.metadata (5.7 kB)\n",
      "Collecting matplotlib\n",
      "  Downloading matplotlib-3.8.4-cp311-cp311-win_amd64.whl.metadata (5.9 kB)\n",
      "Collecting scipy\n",
      "  Downloading scipy-1.13.0-cp311-cp311-win_amd64.whl.metadata (60 kB)\n",
      "     ---------------------------------------- 0.0/60.6 kB ? eta -:--:--\n",
      "     ------------------- ------------------ 30.7/60.6 kB 660.6 kB/s eta 0:00:01\n",
      "     ------------------- ------------------ 30.7/60.6 kB 660.6 kB/s eta 0:00:01\n",
      "     ------------------- ------------------ 30.7/60.6 kB 660.6 kB/s eta 0:00:01\n",
      "     -------------------------------- ----- 51.2/60.6 kB 238.1 kB/s eta 0:00:01\n",
      "     -------------------------------- ----- 51.2/60.6 kB 238.1 kB/s eta 0:00:01\n",
      "     -------------------------------- ----- 51.2/60.6 kB 238.1 kB/s eta 0:00:01\n",
      "     -------------------------------- ----- 51.2/60.6 kB 238.1 kB/s eta 0:00:01\n",
      "     -------------------------------- ----- 51.2/60.6 kB 238.1 kB/s eta 0:00:01\n",
      "     -------------------------------------- 60.6/60.6 kB 124.0 kB/s eta 0:00:00\n",
      "Collecting seaborn\n",
      "  Downloading seaborn-0.13.2-py3-none-any.whl.metadata (5.4 kB)\n",
      "Collecting nltk\n",
      "  Downloading nltk-3.8.1-py3-none-any.whl.metadata (2.8 kB)\n"
     ]
    }
   ],
   "source": [
    "!pip install pandas tensorflow scikit-learn keras matplotlib scipy seaborn nltk pyplot"
   ]
  },
  {
   "cell_type": "code",
   "execution_count": null,
   "metadata": {},
   "outputs": [],
   "source": []
  }
 ],
 "metadata": {
  "kernelspec": {
   "display_name": ".venv",
   "language": "python",
   "name": "python3"
  },
  "language_info": {
   "codemirror_mode": {
    "name": "ipython",
    "version": 3
   },
   "file_extension": ".py",
   "mimetype": "text/x-python",
   "name": "python",
   "nbconvert_exporter": "python",
   "pygments_lexer": "ipython3",
   "version": "3.11.9"
  }
 },
 "nbformat": 4,
 "nbformat_minor": 2
}
