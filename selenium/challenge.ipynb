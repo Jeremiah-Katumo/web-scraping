{
 "cells": [
  {
   "cell_type": "code",
   "execution_count": 2,
   "metadata": {},
   "outputs": [],
   "source": [
    "from selenium import webdriver\n",
    "from selenium.webdriver.common.by import By\n",
    "from selenium.webdriver.common.keys import Keys\n",
    "\n",
    "# Keep Chrome browser open after program finishes\n",
    "chrome_options = webdriver.ChromeOptions()\n",
    "chrome_options.add_experimental_option(\"detach\", True)\n",
    "\n",
    "# Create and configure the Chrome webdriver\n",
    "driver = webdriver.Chrome(options=chrome_options)\n",
    "\n",
    "# Navigate to the (fake) newsletter registration page \n",
    "driver.get(\"https://secure-retreat-92358.herokuapp.com/\")\n",
    "\n",
    "# Find the first name, last name, and email fields\n",
    "first_name = driver.find_element(By.NAME, value=\"fName\")\n",
    "last_name = driver.find_element(By.NAME, value=\"lName\")\n",
    "email = driver.find_element(By.NAME, value=\"email\")\n",
    "\n",
    "# Fill out the form\n",
    "first_name.send_keys(\"Angela\")\n",
    "last_name.send_keys(\"Yu\")\n",
    "email.send_keys(\"angela@email.com\")\n",
    "\n",
    "# Locate the \"Sign Up\" button. Then click on it\n",
    "submit = driver.find_element(By.CSS_SELECTOR, value=\"form button\")\n",
    "submit.click()"
   ]
  },
  {
   "cell_type": "code",
   "execution_count": 3,
   "metadata": {},
   "outputs": [
    {
     "name": "stderr",
     "output_type": "stream",
     "text": [
      "'pip' is not recognized as an internal or external command,\n",
      "operable program or batch file.\n"
     ]
    }
   ],
   "source": [
    "!pip freeze"
   ]
  },
  {
   "cell_type": "code",
   "execution_count": null,
   "metadata": {},
   "outputs": [],
   "source": []
  }
 ],
 "metadata": {
  "kernelspec": {
   "display_name": ".venv",
   "language": "python",
   "name": "python3"
  },
  "language_info": {
   "codemirror_mode": {
    "name": "ipython",
    "version": 3
   },
   "file_extension": ".py",
   "mimetype": "text/x-python",
   "name": "python",
   "nbconvert_exporter": "python",
   "pygments_lexer": "ipython3",
   "version": "3.11.9"
  }
 },
 "nbformat": 4,
 "nbformat_minor": 2
}
