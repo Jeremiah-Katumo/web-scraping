{
 "cells": [
  {
   "cell_type": "code",
   "execution_count": 9,
   "metadata": {},
   "outputs": [
    {
     "name": "stdout",
     "output_type": "stream",
     "text": [
      "Collecting sp\n",
      "  Downloading sp-1.1.0.tar.gz (7.3 kB)\n",
      "  Installing build dependencies: started\n",
      "  Installing build dependencies: still running...\n",
      "  Installing build dependencies: finished with status 'done'\n",
      "  Getting requirements to build wheel: started\n",
      "  Getting requirements to build wheel: finished with status 'done'\n",
      "  Installing backend dependencies: started\n",
      "  Installing backend dependencies: finished with status 'done'\n",
      "  Preparing metadata (pyproject.toml): started\n",
      "  Preparing metadata (pyproject.toml): finished with status 'done'\n",
      "Building wheels for collected packages: sp\n",
      "  Building wheel for sp (pyproject.toml): started\n",
      "  Building wheel for sp (pyproject.toml): finished with status 'done'\n",
      "  Created wheel for sp: filename=sp-1.1.0-py3-none-any.whl size=7105 sha256=f57265588b93ab9907a037c4152c6b94090ab260a88f3991f123afbcd753ac97\n",
      "  Stored in directory: c:\\users\\jerem\\appdata\\local\\pip\\cache\\wheels\\20\\12\\b7\\f46239bfb5ce7a023dc13e02b6198fd7d4ab599f866bea6622\n",
      "Successfully built sp\n",
      "Installing collected packages: sp\n",
      "Successfully installed sp-1.1.0\n"
     ]
    }
   ],
   "source": [
    "!pip install sp"
   ]
  },
  {
   "cell_type": "code",
   "execution_count": 1,
   "metadata": {},
   "outputs": [],
   "source": [
    "from bs4 import BeautifulSoup\n",
    "import requests\n",
    "import lxml\n",
    "\n",
    "date = input(\"Which year do you want to travel to? Type the date in this format YYYY-MM-DD: \")"
   ]
  },
  {
   "cell_type": "code",
   "execution_count": 7,
   "metadata": {},
   "outputs": [
    {
     "name": "stdout",
     "output_type": "stream",
     "text": [
      "['Hiss', 'Lovin On Me', 'Cruel Summer', 'Lose Control', 'Greedy', 'I Remember Everything', 'Agora Hills', 'Beautiful Things', 'Redrum', 'Snooze', 'Water', 'Stick Season', 'Paint The Town Red', 'Last Night', \"Thinkin' Bout Me\", 'Facts', 'Yes, And?', 'Never Lose Me', 'Selfish', 'Fast Car', \"Is It Over Now? (Taylor's Version) [From The Vault]\", 'La Diabla', 'Big Foot', 'Spin You Around (1/24)', 'White Horse', 'Everybody', 'Pretty Little Poison', 'Made For Me', 'Rich Baby Daddy', 'Houdini', 'What Was I Made For?', 'Flowers', 'Where The Wild Things Are', 'Igual Que Un Angel', 'Wild Ones', 'Feather', 'Think U The Shit (Fart)', 'Lil Boo Thang', 'Fukumean', 'FTCU', 'Need A Favor', 'Good Good', 'Dance The Night', 'The Painter', 'First Person Shooter', 'Vampire', 'Surround Sound', 'World On Fire', 'Save Me', 'On My Mama', 'Truck Bed', 'My Love Mine All Mine', 'La Victima', 'Exes', 'Strangers', 'Nee-nah', 'Murder On The Dancefloor', 'One Of The Girls', 'Act II: Date @ 8', 'Burn It Down', 'You Broke My Heart', 'Harley Quinn', 'Bellakeo', 'Man Made A Bar', 'IDGAF', \"Different 'Round Here\", 'Monaco', '500lbs', 'Soak City', 'Prove It', 'N.H.I.E.', 'All Of Me', 'I Can Feel It', 'Praise Jah In The Moonlight', '23', \"Should've Wore A Bonnet\", 'Home', 'Mmhmm', 'One Call', \"We Don't Fight Anymore\", 'FE!N', 'Que Onda', 'Perro Negro', \"Mamaw's House\", 'Y Lloro', 'Oklahoma Smokeshow', 'Coal', 'No Caller ID', 'Creek Will Rise', 'Wondering Why', 'First Love', 'La Intencion', '02.02.99', 'Standing Next To You', 'Sneaky', 'Wildflowers And Wild Horses', 'Northern Attitude', 'All I Need Is You', 'My Eyes', 'Worth It']\n"
     ]
    }
   ],
   "source": [
    "\n",
    "response = requests.get(\"https://www.billboard.com/charts/hot-100/\" + date)\n",
    "\n",
    "soup = BeautifulSoup(response.text, 'html.parser')\n",
    "song_names_spans = soup.select(\"li ul li h3\")\n",
    "song_names = [song.getText().strip() for song in song_names_spans]\n",
    "\n",
    "print(song_names)"
   ]
  },
  {
   "cell_type": "code",
   "execution_count": 8,
   "metadata": {},
   "outputs": [
    {
     "ename": "NameError",
     "evalue": "name 'sp' is not defined",
     "output_type": "error",
     "traceback": [
      "\u001b[1;31m---------------------------------------------------------------------------\u001b[0m",
      "\u001b[1;31mNameError\u001b[0m                                 Traceback (most recent call last)",
      "Cell \u001b[1;32mIn[8], line 1\u001b[0m\n\u001b[1;32m----> 1\u001b[0m user_id \u001b[38;5;241m=\u001b[39m \u001b[43msp\u001b[49m\u001b[38;5;241m.\u001b[39mcurrent_user()[\u001b[38;5;124m\"\u001b[39m\u001b[38;5;124mid\u001b[39m\u001b[38;5;124m\"\u001b[39m]\n\u001b[0;32m      2\u001b[0m date \u001b[38;5;241m=\u001b[39m \u001b[38;5;28minput\u001b[39m(\u001b[38;5;124m\"\u001b[39m\u001b[38;5;124mWhich year do you want to travel to? Type the date in this format YYYY-MM-DD: \u001b[39m\u001b[38;5;124m\"\u001b[39m)\n\u001b[0;32m      3\u001b[0m song_names \u001b[38;5;241m=\u001b[39m [\u001b[38;5;124m\"\u001b[39m\u001b[38;5;124mThe list of song\u001b[39m\u001b[38;5;124m\"\u001b[39m, \u001b[38;5;124m\"\u001b[39m\u001b[38;5;124mtitles from your\u001b[39m\u001b[38;5;124m\"\u001b[39m, \u001b[38;5;124m\"\u001b[39m\u001b[38;5;124mweb scrape\u001b[39m\u001b[38;5;124m\"\u001b[39m]\n",
      "\u001b[1;31mNameError\u001b[0m: name 'sp' is not defined"
     ]
    }
   ],
   "source": [
    "user_id = sp.current_user()[\"id\"]\n",
    "date = input(\"Which year do you want to travel to? Type the date in this format YYYY-MM-DD: \")\n",
    "song_names = [\"The list of song\", \"titles from your\", \"web scrape\"]\n",
    "\n",
    "song_uris = []\n",
    "year = date.split(\"-\")[0]\n",
    "for song in song_names:\n",
    "    result = sp.search(q=f\"track:{song} year:{year}\", type=\"track\")\n",
    "    print(result)\n",
    "    try:\n",
    "        uri = result[\"tracks\"][\"items\"][0][\"uri\"]\n",
    "        song_uris.append(uri)\n",
    "    except IndexError:\n",
    "        print(f\"{song} doesn't exist in Spotify. Skipped.\")"
   ]
  }
 ],
 "metadata": {
  "kernelspec": {
   "display_name": "Python 3",
   "language": "python",
   "name": "python3"
  },
  "language_info": {
   "codemirror_mode": {
    "name": "ipython",
    "version": 3
   },
   "file_extension": ".py",
   "mimetype": "text/x-python",
   "name": "python",
   "nbconvert_exporter": "python",
   "pygments_lexer": "ipython3",
   "version": "3.11.4"
  }
 },
 "nbformat": 4,
 "nbformat_minor": 2
}
