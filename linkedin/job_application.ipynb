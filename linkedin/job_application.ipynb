{
 "cells": [
  {
   "cell_type": "code",
   "execution_count": 1,
   "metadata": {},
   "outputs": [
    {
     "data": {
      "text/plain": [
       "True"
      ]
     },
     "execution_count": 1,
     "metadata": {},
     "output_type": "execute_result"
    }
   ],
   "source": [
    "from selenium import webdriver\n",
    "from selenium.webdriver.common.by import By\n",
    "from selenium.webdriver.common.keys import Keys\n",
    "from selenium.webdriver.support.ui import WebDriverWait\n",
    "from selenium.webdriver.support import expected_conditions as EC\n",
    "import time\n",
    "from dotenv import load_dotenv\n",
    "import os\n",
    "\n",
    "load_dotenv()"
   ]
  },
  {
   "cell_type": "code",
   "execution_count": 2,
   "metadata": {},
   "outputs": [],
   "source": [
    "chrome_options = webdriver.ChromeOptions()\n",
    "chrome_options.add_experimental_option(\"detach\", True)\n",
    "\n",
    "driver = webdriver.Chrome(options=chrome_options)\n",
    "\n",
    "driver.get('https://www.linkedin.com/jobs/search/?currentJobId=3918949937&f_AL=true&geoId=100710459'\n",
    "           '&keywords=python%20developer'\n",
    "           '&location=Kenya'\n",
    "           '&origin=JOB_SEARCH_PAGE_LOCATION_AUTOCOMPLETE'\n",
    "           '&refresh=true'\n",
    ")"
   ]
  },
  {
   "cell_type": "code",
   "execution_count": 3,
   "metadata": {},
   "outputs": [],
   "source": [
    "# Click Reject Cookies Button\n",
    "time.sleep(2)\n",
    "# reject_button = driver.find_element(by=By.CSS_SELECTOR, value='button[action-type=\"DENY\"]')\n",
    "# reject_button.click()\n",
    "\n",
    "# Click Sign in Button\n",
    "time.sleep(2)\n",
    "sign_in_button = driver.find_element(by=By.LINK_TEXT, value=\"Sign in\")\n",
    "sign_in_button.click()"
   ]
  },
  {
   "cell_type": "code",
   "execution_count": 4,
   "metadata": {},
   "outputs": [],
   "source": [
    "ACCOUNT_EMAIL = os.getenv('ACCOUNT_EMAIL')\n",
    "ACCOUNT_PASSWORD = os.getenv('ACCOUNT_PASSWORD')\n",
    "\n",
    "# Sign in\n",
    "time.sleep(5)\n",
    "email_field = driver.find_element(by=By.ID, value=\"username\")\n",
    "email_field.send_keys(ACCOUNT_EMAIL)\n",
    "password_field = driver.find_element(by=By.ID, value=\"password\")\n",
    "password_field.send_keys(ACCOUNT_PASSWORD)\n",
    "password_field.send_keys(Keys.ENTER)"
   ]
  },
  {
   "cell_type": "code",
   "execution_count": 16,
   "metadata": {},
   "outputs": [
    {
     "name": "stdout",
     "output_type": "stream",
     "text": [
      "None\n"
     ]
    }
   ],
   "source": [
    "print(ACCOUNT_EMAIL)"
   ]
  },
  {
   "cell_type": "code",
   "execution_count": null,
   "metadata": {},
   "outputs": [],
   "source": [
    "# Assuming you have already instantiated a driver\n",
    "wait = WebDriverWait(driver, 10)  # Adjust the timeout as needed\n",
    "\n",
    "# Wait until the email field is present\n",
    "email_field = wait.until(EC.presence_of_element_located((By.ID, \"username\")))\n",
    "email_field.send_keys(ACCOUNT_EMAIL)\n",
    "\n",
    "# Similar for the password field\n",
    "password_field = wait.until(EC.presence_of_element_located((By.ID, \"password\")))\n",
    "password_field.send_keys(ACCOUNT_PASSWORD)\n",
    "password_field.send_keys(Keys.ENTER)"
   ]
  },
  {
   "cell_type": "code",
   "execution_count": 6,
   "metadata": {},
   "outputs": [
    {
     "data": {
      "text/plain": [
       "''"
      ]
     },
     "execution_count": 6,
     "metadata": {},
     "output_type": "execute_result"
    }
   ],
   "source": [
    "# You may be presented with a CAPTCHA - Solve the Puzzle Manually\n",
    "input(\"Press Enter when you have solved the Captcha\")"
   ]
  },
  {
   "cell_type": "code",
   "execution_count": null,
   "metadata": {},
   "outputs": [],
   "source": [
    "#Locate the apply button\n",
    "time.sleep(5)\n",
    "apply_button = driver.find_element(by=By.CSS_SELECTOR, value=\".jobs-s-apply button\")\n",
    "apply_button.click()\n",
    "\n",
    "#If application requires phone number and the field is empty, then fill in the number.\n",
    "PHONE = os.getenv('PHONE')\n",
    "time.sleep(5)\n",
    "phone = driver.find_element(by=By.CSS_SELECTOR, value=\"input[id*=phoneNumber]\")\n",
    "if phone.text == \"\":\n",
    "    phone.send_keys(PHONE)\n",
    "\n",
    "#Submit the application\n",
    "# submit_button = driver.find_element(by=By.CSS_SELECTOR, value=\"footer button\")\n",
    "# submit_button.click()\n"
   ]
  },
  {
   "cell_type": "code",
   "execution_count": null,
   "metadata": {},
   "outputs": [],
   "source": [
    "#Submit the application\n",
    "submit_button = driver.find_element(by=By.CSS_SELECTOR, value=\"footer button\")\n",
    "submit_button.click()"
   ]
  },
  {
   "cell_type": "code",
   "execution_count": 8,
   "metadata": {},
   "outputs": [
    {
     "name": "stdout",
     "output_type": "stream",
     "text": [
      "Collecting python_dotenv\n",
      "  Using cached python_dotenv-1.0.1-py3-none-any.whl.metadata (23 kB)\n",
      "Using cached python_dotenv-1.0.1-py3-none-any.whl (19 kB)\n",
      "Installing collected packages: python_dotenv\n",
      "Successfully installed python_dotenv-1.0.1\n"
     ]
    }
   ],
   "source": [
    "!pip install python_dotenv"
   ]
  }
 ],
 "metadata": {
  "kernelspec": {
   "display_name": ".venv",
   "language": "python",
   "name": "python3"
  },
  "language_info": {
   "codemirror_mode": {
    "name": "ipython",
    "version": 3
   },
   "file_extension": ".py",
   "mimetype": "text/x-python",
   "name": "python",
   "nbconvert_exporter": "python",
   "pygments_lexer": "ipython3",
   "version": "3.11.9"
  }
 },
 "nbformat": 4,
 "nbformat_minor": 2
}
