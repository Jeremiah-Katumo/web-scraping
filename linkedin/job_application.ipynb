{
 "cells": [
  {
   "cell_type": "code",
   "execution_count": 19,
   "metadata": {},
   "outputs": [
    {
     "data": {
      "text/plain": [
       "True"
      ]
     },
     "execution_count": 19,
     "metadata": {},
     "output_type": "execute_result"
    }
   ],
   "source": [
    "from selenium import webdriver\n",
    "from selenium.webdriver.common.by import By\n",
    "from selenium.webdriver.common.keys import Keys\n",
    "from selenium.webdriver.support.ui import WebDriverWait\n",
    "from selenium.webdriver.support import expected_conditions as EC\n",
    "import time\n",
    "from dotenv import load_dotenv\n",
    "import os\n",
    "\n",
    "load_dotenv()"
   ]
  },
  {
   "cell_type": "code",
   "execution_count": 20,
   "metadata": {},
   "outputs": [],
   "source": [
    "chrome_options = webdriver.ChromeOptions()\n",
    "chrome_options.add_experimental_option(\"detach\", True)\n",
    "\n",
    "driver = webdriver.Chrome(options=chrome_options)\n",
    "\n",
    "driver.get('https://www.linkedin.com/jobs/search/?currentJobId=3918949937&f_AL=true&geoId=100710459'\n",
    "           '&keywords=python%20developer'\n",
    "           '&location=Kenya'\n",
    "           '&origin=JOB_SEARCH_PAGE_LOCATION_AUTOCOMPLETE'\n",
    "           '&refresh=true'\n",
    ")"
   ]
  },
  {
   "cell_type": "code",
   "execution_count": 21,
   "metadata": {},
   "outputs": [],
   "source": [
    "# Click Reject Cookies Button\n",
    "time.sleep(2)\n",
    "# reject_button = driver.find_element(by=By.CSS_SELECTOR, value='button[action-type=\"DENY\"]')\n",
    "# reject_button.click()\n",
    "\n",
    "# Click Sign in Button\n",
    "time.sleep(2)\n",
    "sign_in_button = driver.find_element(by=By.LINK_TEXT, value=\"Sign in\")\n",
    "sign_in_button.click()"
   ]
  },
  {
   "cell_type": "code",
   "execution_count": 22,
   "metadata": {},
   "outputs": [],
   "source": [
    "ACCOUNT_EMAIL = os.getenv('ACCOUNT_EMAIL')\n",
    "ACCOUNT_PASSWORD = os.getenv('ACCOUNT_PASSWORD')\n",
    "\n",
    "# Sign in\n",
    "time.sleep(5)\n",
    "email_field = driver.find_element(by=By.ID, value=\"username\")\n",
    "email_field.send_keys(ACCOUNT_EMAIL)\n",
    "password_field = driver.find_element(by=By.ID, value=\"password\")\n",
    "password_field.send_keys(ACCOUNT_PASSWORD)\n",
    "password_field.send_keys(Keys.ENTER)"
   ]
  },
  {
   "cell_type": "code",
   "execution_count": 16,
   "metadata": {},
   "outputs": [
    {
     "name": "stdout",
     "output_type": "stream",
     "text": [
      "None\n"
     ]
    }
   ],
   "source": [
    "print(ACCOUNT_EMAIL)"
   ]
  },
  {
   "cell_type": "code",
   "execution_count": null,
   "metadata": {},
   "outputs": [],
   "source": [
    "# Assuming you have already instantiated a driver\n",
    "wait = WebDriverWait(driver, 10)  # Adjust the timeout as needed\n",
    "\n",
    "# Wait until the email field is present\n",
    "email_field = wait.until(EC.presence_of_element_located((By.ID, \"username\")))\n",
    "email_field.send_keys(ACCOUNT_EMAIL)\n",
    "\n",
    "# Similar for the password field\n",
    "password_field = wait.until(EC.presence_of_element_located((By.ID, \"password\")))\n",
    "password_field.send_keys(ACCOUNT_PASSWORD)\n",
    "password_field.send_keys(Keys.ENTER)"
   ]
  },
  {
   "cell_type": "code",
   "execution_count": null,
   "metadata": {},
   "outputs": [],
   "source": [
    "# You may be presented with a CAPTCHA - Solve the Puzzle Manually\n",
    "input(\"Press Enter when you have solved the Captcha\")"
   ]
  },
  {
   "cell_type": "code",
   "execution_count": 23,
   "metadata": {},
   "outputs": [
    {
     "ename": "TypeError",
     "evalue": "'NoneType' object is not iterable",
     "output_type": "error",
     "traceback": [
      "\u001b[1;31m---------------------------------------------------------------------------\u001b[0m",
      "\u001b[1;31mTypeError\u001b[0m                                 Traceback (most recent call last)",
      "Cell \u001b[1;32mIn[23], line 11\u001b[0m\n\u001b[0;32m      9\u001b[0m phone \u001b[38;5;241m=\u001b[39m driver\u001b[38;5;241m.\u001b[39mfind_element(by\u001b[38;5;241m=\u001b[39mBy\u001b[38;5;241m.\u001b[39mCSS_SELECTOR, value\u001b[38;5;241m=\u001b[39m\u001b[38;5;124m\"\u001b[39m\u001b[38;5;124minput[id*=phoneNumber]\u001b[39m\u001b[38;5;124m\"\u001b[39m)\n\u001b[0;32m     10\u001b[0m \u001b[38;5;28;01mif\u001b[39;00m phone\u001b[38;5;241m.\u001b[39mtext \u001b[38;5;241m==\u001b[39m \u001b[38;5;124m\"\u001b[39m\u001b[38;5;124m\"\u001b[39m:\n\u001b[1;32m---> 11\u001b[0m     \u001b[43mphone\u001b[49m\u001b[38;5;241;43m.\u001b[39;49m\u001b[43msend_keys\u001b[49m\u001b[43m(\u001b[49m\u001b[43mPHONE\u001b[49m\u001b[43m)\u001b[49m\n\u001b[0;32m     13\u001b[0m \u001b[38;5;66;03m#Submit the application\u001b[39;00m\n\u001b[0;32m     14\u001b[0m submit_button \u001b[38;5;241m=\u001b[39m driver\u001b[38;5;241m.\u001b[39mfind_element(by\u001b[38;5;241m=\u001b[39mBy\u001b[38;5;241m.\u001b[39mCSS_SELECTOR, value\u001b[38;5;241m=\u001b[39m\u001b[38;5;124m\"\u001b[39m\u001b[38;5;124mfooter button\u001b[39m\u001b[38;5;124m\"\u001b[39m)\n",
      "File \u001b[1;32md:\\Web\\Development\\web scraping\\.venv\\Lib\\site-packages\\selenium\\webdriver\\remote\\webelement.py:232\u001b[0m, in \u001b[0;36mWebElement.send_keys\u001b[1;34m(self, *value)\u001b[0m\n\u001b[0;32m    228\u001b[0m             remote_files\u001b[38;5;241m.\u001b[39mappend(\u001b[38;5;28mself\u001b[39m\u001b[38;5;241m.\u001b[39m_upload(file))\n\u001b[0;32m    229\u001b[0m         value \u001b[38;5;241m=\u001b[39m \u001b[38;5;124m\"\u001b[39m\u001b[38;5;130;01m\\n\u001b[39;00m\u001b[38;5;124m\"\u001b[39m\u001b[38;5;241m.\u001b[39mjoin(remote_files)\n\u001b[0;32m    231\u001b[0m \u001b[38;5;28mself\u001b[39m\u001b[38;5;241m.\u001b[39m_execute(\n\u001b[1;32m--> 232\u001b[0m     Command\u001b[38;5;241m.\u001b[39mSEND_KEYS_TO_ELEMENT, {\u001b[38;5;124m\"\u001b[39m\u001b[38;5;124mtext\u001b[39m\u001b[38;5;124m\"\u001b[39m: \u001b[38;5;124m\"\u001b[39m\u001b[38;5;124m\"\u001b[39m\u001b[38;5;241m.\u001b[39mjoin(\u001b[43mkeys_to_typing\u001b[49m\u001b[43m(\u001b[49m\u001b[43mvalue\u001b[49m\u001b[43m)\u001b[49m), \u001b[38;5;124m\"\u001b[39m\u001b[38;5;124mvalue\u001b[39m\u001b[38;5;124m\"\u001b[39m: keys_to_typing(value)}\n\u001b[0;32m    233\u001b[0m )\n",
      "File \u001b[1;32md:\\Web\\Development\\web scraping\\.venv\\Lib\\site-packages\\selenium\\webdriver\\common\\utils.py:137\u001b[0m, in \u001b[0;36mkeys_to_typing\u001b[1;34m(value)\u001b[0m\n\u001b[0;32m    135\u001b[0m         characters\u001b[38;5;241m.\u001b[39mextend(\u001b[38;5;28mstr\u001b[39m(val))\n\u001b[0;32m    136\u001b[0m     \u001b[38;5;28;01melse\u001b[39;00m:\n\u001b[1;32m--> 137\u001b[0m         characters\u001b[38;5;241m.\u001b[39mextend(val)\n\u001b[0;32m    138\u001b[0m \u001b[38;5;28;01mreturn\u001b[39;00m characters\n",
      "\u001b[1;31mTypeError\u001b[0m: 'NoneType' object is not iterable"
     ]
    }
   ],
   "source": [
    "#Locate the apply button\n",
    "time.sleep(5)\n",
    "apply_button = driver.find_element(by=By.CSS_SELECTOR, value=\".jobs-s-apply button\")\n",
    "apply_button.click()\n",
    "\n",
    "#If application requires phone number and the field is empty, then fill in the number.\n",
    "PHONE = os.getenv('PHONE')\n",
    "time.sleep(5)\n",
    "phone = driver.find_element(by=By.CSS_SELECTOR, value=\"input[id*=phoneNumber]\")\n",
    "if phone.text == \"\":\n",
    "    phone.send_keys(PHONE)\n",
    "\n",
    "#Submit the application\n",
    "submit_button = driver.find_element(by=By.CSS_SELECTOR, value=\"footer button\")\n",
    "submit_button.click()\n"
   ]
  },
  {
   "cell_type": "code",
   "execution_count": 8,
   "metadata": {},
   "outputs": [
    {
     "name": "stdout",
     "output_type": "stream",
     "text": [
      "Collecting python_dotenv\n",
      "  Using cached python_dotenv-1.0.1-py3-none-any.whl.metadata (23 kB)\n",
      "Using cached python_dotenv-1.0.1-py3-none-any.whl (19 kB)\n",
      "Installing collected packages: python_dotenv\n",
      "Successfully installed python_dotenv-1.0.1\n"
     ]
    }
   ],
   "source": [
    "!pip install python_dotenv"
   ]
  }
 ],
 "metadata": {
  "kernelspec": {
   "display_name": ".venv",
   "language": "python",
   "name": "python3"
  },
  "language_info": {
   "codemirror_mode": {
    "name": "ipython",
    "version": 3
   },
   "file_extension": ".py",
   "mimetype": "text/x-python",
   "name": "python",
   "nbconvert_exporter": "python",
   "pygments_lexer": "ipython3",
   "version": "3.11.9"
  }
 },
 "nbformat": 4,
 "nbformat_minor": 2
}
